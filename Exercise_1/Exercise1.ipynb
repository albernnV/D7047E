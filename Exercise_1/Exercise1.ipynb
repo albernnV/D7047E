{
 "cells": [
  {
   "cell_type": "code",
   "execution_count": 1,
   "metadata": {},
   "outputs": [],
   "source": [
    "from tensorflow import keras\n",
    "from tensorflow.keras import layers\n",
    "from tensorflow.keras.models import Model\n",
    "from sklearn.model_selection import train_test_split\n",
    "from tensorflow.keras.layers import Dense, Flatten, Input, Conv2D, MaxPooling2D, Dropout, Activation, LeakyReLU\n",
    "import numpy as np\n",
    "import matplotlib.pyplot as plt"
   ]
  },
  {
   "cell_type": "code",
   "execution_count": 2,
   "metadata": {},
   "outputs": [],
   "source": [
    "# Load the TensorBoard notebook extension\n",
    "%load_ext tensorboard"
   ]
  },
  {
   "cell_type": "code",
   "execution_count": 3,
   "metadata": {},
   "outputs": [],
   "source": [
    "import tensorflow as tf\n",
    "import datetime"
   ]
  },
  {
   "cell_type": "code",
   "execution_count": 2,
   "metadata": {},
   "outputs": [],
   "source": [
    "(X_train, Y_train), (X_test, Y_test) = keras.datasets.cifar10.load_data()"
   ]
  },
  {
   "cell_type": "code",
   "execution_count": 8,
   "metadata": {},
   "outputs": [
    {
     "name": "stdout",
     "output_type": "stream",
     "text": [
      "<class 'numpy.ndarray'>\n"
     ]
    }
   ],
   "source": [
    "print(type(X_train[0]))"
   ]
  },
  {
   "cell_type": "code",
   "execution_count": 5,
   "metadata": {},
   "outputs": [],
   "source": [
    "def Convolution(input_tensor,filters):\n",
    "    x = Conv2D(filters=filters,kernel_size=(3, 3),padding = 'same',strides=(1, 1))(input_tensor)\n",
    "    x = Dropout(0.1)(x)\n",
    "    x = LeakyReLU()(x)\n",
    "    return x\n",
    "\n",
    "\n",
    "def model(input_shape):\n",
    "    inputs = Input((input_shape))\n",
    "    conv_1= Convolution(inputs,32)\n",
    "    maxp_1 = MaxPooling2D(pool_size = (2, 2)) (conv_1)\n",
    "    conv_2 = Convolution(maxp_1,64)\n",
    "    maxp_2 = MaxPooling2D(pool_size = (2, 2)) (conv_2)\n",
    "    flatten= Flatten() (maxp_2)\n",
    "    dense_1= Dense(4096,activation=LeakyReLU())(flatten)\n",
    "    drop_1=Dropout(0.2)(dense_1)\n",
    "    output= Dense(10,activation=\"softmax\")(drop_1)\n",
    "\n",
    "    model = Model(inputs=[inputs], outputs=[output])\n",
    "    opt = keras.optimizers.Adam(learning_rate=0.0001)\n",
    "    model.compile(loss='sparse_categorical_crossentropy', optimizer=opt, metrics=[\"accuracy\"])\n",
    "    return model"
   ]
  },
  {
   "cell_type": "code",
   "execution_count": 6,
   "metadata": {},
   "outputs": [
    {
     "name": "stdout",
     "output_type": "stream",
     "text": [
      "Model: \"model\"\n",
      "_________________________________________________________________\n",
      "Layer (type)                 Output Shape              Param #   \n",
      "=================================================================\n",
      "input_1 (InputLayer)         [(None, 32, 32, 3)]       0         \n",
      "_________________________________________________________________\n",
      "conv2d (Conv2D)              (None, 32, 32, 32)        896       \n",
      "_________________________________________________________________\n",
      "dropout (Dropout)            (None, 32, 32, 32)        0         \n",
      "_________________________________________________________________\n",
      "leaky_re_lu (LeakyReLU)      (None, 32, 32, 32)        0         \n",
      "_________________________________________________________________\n",
      "max_pooling2d (MaxPooling2D) (None, 16, 16, 32)        0         \n",
      "_________________________________________________________________\n",
      "conv2d_1 (Conv2D)            (None, 16, 16, 64)        18496     \n",
      "_________________________________________________________________\n",
      "dropout_1 (Dropout)          (None, 16, 16, 64)        0         \n",
      "_________________________________________________________________\n",
      "leaky_re_lu_1 (LeakyReLU)    (None, 16, 16, 64)        0         \n",
      "_________________________________________________________________\n",
      "max_pooling2d_1 (MaxPooling2 (None, 8, 8, 64)          0         \n",
      "_________________________________________________________________\n",
      "flatten (Flatten)            (None, 4096)              0         \n",
      "_________________________________________________________________\n",
      "dense (Dense)                (None, 4096)              16781312  \n",
      "_________________________________________________________________\n",
      "dropout_2 (Dropout)          (None, 4096)              0         \n",
      "_________________________________________________________________\n",
      "dense_1 (Dense)              (None, 10)                40970     \n",
      "=================================================================\n",
      "Total params: 16,841,674\n",
      "Trainable params: 16,841,674\n",
      "Non-trainable params: 0\n",
      "_________________________________________________________________\n"
     ]
    }
   ],
   "source": [
    "Model=model(input_shape = (32,32,3))\n",
    "Model.summary()"
   ]
  },
  {
   "cell_type": "code",
   "execution_count": 7,
   "metadata": {},
   "outputs": [
    {
     "name": "stdout",
     "output_type": "stream",
     "text": [
      "Epoch 1/10\n",
      "1563/1563 [==============================] - 189s 121ms/step - loss: 20.1491 - accuracy: 0.3296 - val_loss: 2.2729 - val_accuracy: 0.4627\n",
      "Epoch 2/10\n",
      "1563/1563 [==============================] - 187s 120ms/step - loss: 1.9416 - accuracy: 0.5060 - val_loss: 1.5300 - val_accuracy: 0.5581\n",
      "Epoch 3/10\n",
      "1563/1563 [==============================] - 187s 119ms/step - loss: 1.4441 - accuracy: 0.5712 - val_loss: 1.3862 - val_accuracy: 0.5741\n",
      "Epoch 4/10\n",
      "1563/1563 [==============================] - 186s 119ms/step - loss: 1.2540 - accuracy: 0.6110 - val_loss: 1.4448 - val_accuracy: 0.5734\n",
      "Epoch 5/10\n",
      "1563/1563 [==============================] - 182s 116ms/step - loss: 1.0920 - accuracy: 0.6513 - val_loss: 1.3588 - val_accuracy: 0.5916\n",
      "Epoch 6/10\n",
      "1563/1563 [==============================] - 185s 118ms/step - loss: 0.9834 - accuracy: 0.6792 - val_loss: 1.2271 - val_accuracy: 0.6196\n",
      "Epoch 7/10\n",
      "1563/1563 [==============================] - 184s 118ms/step - loss: 0.8777 - accuracy: 0.7061 - val_loss: 1.1357 - val_accuracy: 0.6474\n",
      "Epoch 8/10\n",
      "1563/1563 [==============================] - 183s 117ms/step - loss: 0.7961 - accuracy: 0.7267 - val_loss: 1.2447 - val_accuracy: 0.6229\n",
      "Epoch 9/10\n",
      "1563/1563 [==============================] - 187s 120ms/step - loss: 0.7009 - accuracy: 0.7582 - val_loss: 1.1600 - val_accuracy: 0.6500\n",
      "Epoch 10/10\n",
      "1563/1563 [==============================] - 187s 120ms/step - loss: 0.6337 - accuracy: 0.7807 - val_loss: 1.1653 - val_accuracy: 0.6600\n"
     ]
    }
   ],
   "source": [
    "log_dir = \"logs/fit/\" + datetime.datetime.now().strftime(\"%Y%m%d-%H%M%S\")\n",
    "tensorboard_callback = tf.keras.callbacks.TensorBoard(log_dir=log_dir, histogram_freq=1)\n",
    "\n",
    "History=Model.fit(X_train,Y_train,batch_size=32,validation_data=(X_test,Y_test),epochs=10,callbacks=[tensorboard_callback])"
   ]
  },
  {
   "cell_type": "code",
   "execution_count": 12,
   "metadata": {},
   "outputs": [
    {
     "data": {
      "text/plain": [
       "Reusing TensorBoard on port 6006 (pid 18704), started 0:40:02 ago. (Use '!kill 18704' to kill it.)"
      ]
     },
     "metadata": {},
     "output_type": "display_data"
    },
    {
     "data": {
      "text/html": [
       "\n",
       "      <iframe id=\"tensorboard-frame-34dc8618640dd53a\" width=\"100%\" height=\"800\" frameborder=\"0\">\n",
       "      </iframe>\n",
       "      <script>\n",
       "        (function() {\n",
       "          const frame = document.getElementById(\"tensorboard-frame-34dc8618640dd53a\");\n",
       "          const url = new URL(\"/\", window.location);\n",
       "          const port = 6006;\n",
       "          if (port) {\n",
       "            url.port = port;\n",
       "          }\n",
       "          frame.src = url;\n",
       "        })();\n",
       "      </script>\n",
       "    "
      ],
      "text/plain": [
       "<IPython.core.display.HTML object>"
      ]
     },
     "metadata": {},
     "output_type": "display_data"
    }
   ],
   "source": [
    "%tensorboard --logdir logs/fit"
   ]
  },
  {
   "cell_type": "code",
   "execution_count": 8,
   "metadata": {},
   "outputs": [
    {
     "name": "stdout",
     "output_type": "stream",
     "text": [
      "1563/1563 [==============================] - 22s 14ms/step - loss: 0.4907 - accuracy: 0.8284\n"
     ]
    }
   ],
   "source": [
    "score = Model.evaluate(X_train, Y_train)\n"
   ]
  },
  {
   "cell_type": "code",
   "execution_count": 9,
   "metadata": {},
   "outputs": [
    {
     "name": "stdout",
     "output_type": "stream",
     "text": [
      "313/313 [==============================] - 5s 15ms/step - loss: 1.1653 - accuracy: 0.6600\n"
     ]
    }
   ],
   "source": [
    "score = Model.evaluate(X_test, Y_test)"
   ]
  },
  {
   "cell_type": "code",
   "execution_count": 10,
   "metadata": {},
   "outputs": [
    {
     "data": {
      "image/png": "[encoded data removed]",
      "text/plain": [
       "<Figure size 432x288 with 1 Axes>"
      ]
     },
     "metadata": {
      "needs_background": "light"
     },
     "output_type": "display_data"
    }
   ],
   "source": [
    "plt.plot(History.history['loss'])\n",
    "plt.plot(History.history['val_loss'])\n",
    "plt.title('Model loss')\n",
    "plt.ylabel('Loss')\n",
    "plt.xlabel('Epoch')\n",
    "plt.legend(['Train', 'Validation'], loc='upper right')\n",
    "plt.subplots_adjust(top=1.00, bottom=0.0, left=0.0, right=0.95, hspace=0.25, wspace=0.35)"
   ]
  },
  {
   "cell_type": "code",
   "execution_count": 11,
   "metadata": {},
   "outputs": [
    {
     "data": {
      "image/png": "[encoded data removed]",
      "text/plain": [
       "<Figure size 432x288 with 1 Axes>"
      ]
     },
     "metadata": {
      "needs_background": "light"
     },
     "output_type": "display_data"
    }
   ],
   "source": [
    "plt.plot(History.history['accuracy'])\n",
    "plt.plot(History.history['val_accuracy'])\n",
    "plt.title('Model accuracy')\n",
    "plt.ylabel('Accuracy')\n",
    "plt.xlabel('Epoch')\n",
    "plt.legend(['Train', 'Validation'], loc='lower right')\n",
    "plt.subplots_adjust(top=1.00, bottom=0.0, left=0.0, right=0.95, hspace=0.25, wspace=0.35)"
   ]
  },
  {
   "cell_type": "markdown",
   "metadata": {},
   "source": [
    "# Results\n",
    "\n",
    "#### LeakyReLU and SGD optimizer with lr = 0.0001 \n",
    "=>  Train accuracy: 73%\n",
    "    Test accuracy: 67%\n",
    "    \n",
    "#### Changed the optimizer to Adam\n",
    "=>  Train accuracy: 98.6%\n",
    "    Test accuracy: 71%\n",
    "\n",
    "#### Change from LeakyReLU to tanh\n",
    "=>  Train accuracy: 99%\n",
    "    Test accuracy: 69%"
   ]
  },
  {
   "cell_type": "code",
   "execution_count": null,
   "metadata": {},
   "outputs": [],
   "source": []
  }
 ],
 "metadata": {
  "kernelspec": {
   "display_name": "Python 3",
   "language": "python",
   "name": "python3"
  },
  "language_info": {
   "codemirror_mode": {
    "name": "ipython",
    "version": 3
   },
   "file_extension": ".py",
   "mimetype": "text/x-python",
   "name": "python",
   "nbconvert_exporter": "python",
   "pygments_lexer": "ipython3",
   "version": "3.6.12"
  }
 },
 "nbformat": 4,
 "nbformat_minor": 4
}
