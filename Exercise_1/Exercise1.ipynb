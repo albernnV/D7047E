{
 "cells": [
  {
   "cell_type": "code",
   "execution_count": 88,
   "metadata": {},
   "outputs": [],
   "source": [
    "from tensorflow import keras\n",
    "from tensorflow.keras import layers\n",
    "from tensorflow.keras.models import Model\n",
    "from sklearn.model_selection import train_test_split\n",
    "from tensorflow.keras.layers import Dense, Flatten, Input, Conv2D, MaxPooling2D, Dropout, Activation, LeakyReLU\n",
    "import numpy as np\n",
    "import matplotlib.pyplot as plt"
   ]
  },
  {
   "cell_type": "code",
   "execution_count": 8,
   "metadata": {},
   "outputs": [],
   "source": [
    "(X_train, Y_train), (X_test, Y_test) = keras.datasets.cifar10.load_data()"
   ]
  },
  {
   "cell_type": "code",
   "execution_count": 91,
   "metadata": {},
   "outputs": [],
   "source": [
    "def Convolution(input_tensor,filters):\n",
    "    x = Conv2D(filters=filters,kernel_size=(3, 3),padding = 'same',strides=(1, 1))(input_tensor)\n",
    "    x = Dropout(0.1)(x)\n",
    "    x = LeakyReLU()(x)\n",
    "    return x\n",
    "\n",
    "\n",
    "def model(input_shape):\n",
    "    inputs = Input((input_shape))\n",
    "    conv_1= Convolution(inputs,32)\n",
    "    maxp_1 = MaxPooling2D(pool_size = (2, 2)) (conv_1)\n",
    "    conv_2 = Convolution(maxp_1,64)\n",
    "    maxp_2 = MaxPooling2D(pool_size = (2, 2)) (conv_2)\n",
    "    flatten= Flatten() (maxp_2)\n",
    "    dense_1= Dense(4096,activation=LeakyReLU())(flatten)\n",
    "    drop_1=Dropout(0.2)(dense_1)\n",
    "    output= Dense(10,activation=\"softmax\")(drop_1)\n",
    "\n",
    "    model = Model(inputs=[inputs], outputs=[output])\n",
    "    opt = keras.optimizers.SGD(learning_rate=0.0001)\n",
    "    model.compile(loss='sparse_categorical_crossentropy', optimizer=opt, metrics=[\"accuracy\"])\n",
    "    return model"
   ]
  },
  {
   "cell_type": "code",
   "execution_count": 92,
   "metadata": {},
   "outputs": [
    {
     "name": "stdout",
     "output_type": "stream",
     "text": [
      "Model: \"model_6\"\n",
      "_________________________________________________________________\n",
      "Layer (type)                 Output Shape              Param #   \n",
      "=================================================================\n",
      "input_17 (InputLayer)        [(None, 32, 32, 3)]       0         \n",
      "_________________________________________________________________\n",
      "conv2d_27 (Conv2D)           (None, 32, 32, 32)        896       \n",
      "_________________________________________________________________\n",
      "dropout_35 (Dropout)         (None, 32, 32, 32)        0         \n",
      "_________________________________________________________________\n",
      "leaky_re_lu_33 (LeakyReLU)   (None, 32, 32, 32)        0         \n",
      "_________________________________________________________________\n",
      "max_pooling2d_24 (MaxPooling (None, 16, 16, 32)        0         \n",
      "_________________________________________________________________\n",
      "conv2d_28 (Conv2D)           (None, 16, 16, 64)        18496     \n",
      "_________________________________________________________________\n",
      "dropout_36 (Dropout)         (None, 16, 16, 64)        0         \n",
      "_________________________________________________________________\n",
      "leaky_re_lu_34 (LeakyReLU)   (None, 16, 16, 64)        0         \n",
      "_________________________________________________________________\n",
      "max_pooling2d_25 (MaxPooling (None, 8, 8, 64)          0         \n",
      "_________________________________________________________________\n",
      "flatten_12 (Flatten)         (None, 4096)              0         \n",
      "_________________________________________________________________\n",
      "dense_22 (Dense)             (None, 4096)              16781312  \n",
      "_________________________________________________________________\n",
      "dropout_37 (Dropout)         (None, 4096)              0         \n",
      "_________________________________________________________________\n",
      "dense_23 (Dense)             (None, 10)                40970     \n",
      "=================================================================\n",
      "Total params: 16,841,674\n",
      "Trainable params: 16,841,674\n",
      "Non-trainable params: 0\n",
      "_________________________________________________________________\n"
     ]
    }
   ],
   "source": [
    "Model=model(input_shape = (32,32,3))\n",
    "Model.summary()"
   ]
  },
  {
   "cell_type": "code",
   "execution_count": 93,
   "metadata": {},
   "outputs": [
    {
     "name": "stdout",
     "output_type": "stream",
     "text": [
      "Epoch 1/15\n",
      "1563/1563 [==============================] - 166s 106ms/step - loss: 6.3245 - accuracy: 0.2374 - val_loss: 1.8830 - val_accuracy: 0.3838\n",
      "Epoch 2/15\n",
      "1563/1563 [==============================] - 166s 106ms/step - loss: 2.1492 - accuracy: 0.3442 - val_loss: 1.7183 - val_accuracy: 0.4163\n",
      "Epoch 3/15\n",
      "1563/1563 [==============================] - 166s 106ms/step - loss: 1.8481 - accuracy: 0.3982 - val_loss: 1.5555 - val_accuracy: 0.4666\n",
      "Epoch 4/15\n",
      "1563/1563 [==============================] - 162s 103ms/step - loss: 1.7166 - accuracy: 0.4248 - val_loss: 1.4429 - val_accuracy: 0.4990\n",
      "Epoch 5/15\n",
      "1563/1563 [==============================] - 170s 108ms/step - loss: 1.6060 - accuracy: 0.4523 - val_loss: 1.3917 - val_accuracy: 0.5148\n",
      "Epoch 6/15\n",
      "1563/1563 [==============================] - 169s 108ms/step - loss: 1.5411 - accuracy: 0.4723 - val_loss: 1.4007 - val_accuracy: 0.5136\n",
      "Epoch 7/15\n",
      "1563/1563 [==============================] - 168s 108ms/step - loss: 1.4776 - accuracy: 0.4912 - val_loss: 1.4194 - val_accuracy: 0.5042\n",
      "Epoch 8/15\n",
      "1563/1563 [==============================] - 167s 107ms/step - loss: 1.4244 - accuracy: 0.5178 - val_loss: 1.4095 - val_accuracy: 0.5088\n",
      "Epoch 9/15\n",
      "1563/1563 [==============================] - 170s 109ms/step - loss: 1.3828 - accuracy: 0.5227 - val_loss: 1.3097 - val_accuracy: 0.5416\n",
      "Epoch 10/15\n",
      "1563/1563 [==============================] - 173s 111ms/step - loss: 1.3548 - accuracy: 0.5363 - val_loss: 1.2637 - val_accuracy: 0.5607\n",
      "Epoch 11/15\n",
      "1563/1563 [==============================] - 170s 109ms/step - loss: 1.3231 - accuracy: 0.5474 - val_loss: 1.2306 - val_accuracy: 0.5709\n",
      "Epoch 12/15\n",
      "1563/1563 [==============================] - 164s 105ms/step - loss: 1.3005 - accuracy: 0.5556 - val_loss: 1.2869 - val_accuracy: 0.5537\n",
      "Epoch 13/15\n",
      "1563/1563 [==============================] - 171s 109ms/step - loss: 1.2746 - accuracy: 0.5639 - val_loss: 1.3202 - val_accuracy: 0.5410\n",
      "Epoch 14/15\n",
      "1563/1563 [==============================] - 173s 111ms/step - loss: 1.2501 - accuracy: 0.5700 - val_loss: 1.2613 - val_accuracy: 0.5677\n",
      "Epoch 15/15\n",
      "1563/1563 [==============================] - 177s 114ms/step - loss: 1.2377 - accuracy: 0.5750 - val_loss: 1.3312 - val_accuracy: 0.5398\n"
     ]
    }
   ],
   "source": [
    "History=Model.fit(X_train,Y_train,batch_size=32,validation_data=(X_test,Y_test),epochs=15)"
   ]
  },
  {
   "cell_type": "code",
   "execution_count": 94,
   "metadata": {},
   "outputs": [
    {
     "name": "stdout",
     "output_type": "stream",
     "text": [
      "1563/1563 [==============================] - 22s 14ms/step - loss: 1.2367 - accuracy: 0.5712\n"
     ]
    }
   ],
   "source": [
    "score = Model.evaluate(X_train, Y_train)\n"
   ]
  },
  {
   "cell_type": "code",
   "execution_count": 86,
   "metadata": {},
   "outputs": [
    {
     "name": "stdout",
     "output_type": "stream",
     "text": [
      "313/313 [==============================] - 5s 16ms/step - loss: 1.8639 - accuracy: 0.4583\n"
     ]
    }
   ],
   "source": [
    "score = Model.evaluate(X_test, Y_test)"
   ]
  },
  {
   "cell_type": "code",
   "execution_count": 89,
   "metadata": {},
   "outputs": [
    {
     "data": {
      "image/png": "[encoded data removed]",
      "text/plain": [
       "<Figure size 432x288 with 1 Axes>"
      ]
     },
     "metadata": {
      "needs_background": "light"
     },
     "output_type": "display_data"
    }
   ],
   "source": [
    "plt.plot(History.history['loss'])\n",
    "plt.plot(History.history['val_loss'])\n",
    "plt.title('Model loss')\n",
    "plt.ylabel('Loss')\n",
    "plt.xlabel('Epoch')\n",
    "plt.legend(['Train', 'Validation'], loc='upper right')\n",
    "plt.subplots_adjust(top=1.00, bottom=0.0, left=0.0, right=0.95, hspace=0.25, wspace=0.35)"
   ]
  },
  {
   "cell_type": "code",
   "execution_count": 90,
   "metadata": {},
   "outputs": [
    {
     "data": {
      "image/png": "[encoded data removed]",
      "text/plain": [
       "<Figure size 432x288 with 1 Axes>"
      ]
     },
     "metadata": {
      "needs_background": "light"
     },
     "output_type": "display_data"
    }
   ],
   "source": [
    "plt.plot(History.history['accuracy'])\n",
    "plt.plot(History.history['val_accuracy'])\n",
    "plt.title('Model accuracy')\n",
    "plt.ylabel('Accuracy')\n",
    "plt.xlabel('Epoch')\n",
    "plt.legend(['Train', 'Validation'], loc='lower right')\n",
    "plt.subplots_adjust(top=1.00, bottom=0.0, left=0.0, right=0.95, hspace=0.25, wspace=0.35)"
   ]
  },
  {
   "cell_type": "code",
   "execution_count": null,
   "metadata": {},
   "outputs": [],
   "source": []
  }
 ],
 "metadata": {
  "kernelspec": {
   "display_name": "Python 3",
   "language": "python",
   "name": "python3"
  },
  "language_info": {
   "codemirror_mode": {
    "name": "ipython",
    "version": 3
   },
   "file_extension": ".py",
   "mimetype": "text/x-python",
   "name": "python",
   "nbconvert_exporter": "python",
   "pygments_lexer": "ipython3",
   "version": "3.6.12"
  }
 },
 "nbformat": 4,
 "nbformat_minor": 4
}
