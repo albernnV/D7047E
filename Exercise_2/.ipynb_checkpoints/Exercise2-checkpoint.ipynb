{
 "cells": [
  {
   "cell_type": "code",
   "execution_count": 3,
   "metadata": {},
   "outputs": [],
   "source": [
    "from tensorflow import keras\n",
    "from sklearn.model_selection import train_test_split\n",
    "import numpy as np\n",
    "import matplotlib.pyplot as plt\n",
    "import torchvision\n",
    "import torch.nn as nn\n",
    "import torch\n",
    "import torchvision.transforms as transforms\n",
    "from tensorflow.keras import layers\n",
    "from tensorflow.keras.models import Model\n",
    "from tensorflow.keras.layers import Dense, Flatten, Input, Conv2D, MaxPooling2D, Dropout, Activation, LeakyReLU"
   ]
  },
  {
   "cell_type": "markdown",
   "metadata": {},
   "source": [
    "### Downloading CIFAR10"
   ]
  },
  {
   "cell_type": "code",
   "execution_count": null,
   "metadata": {},
   "outputs": [],
   "source": [
    "transform = transforms.Compose([\n",
    "    transforms.Resize(256),\n",
    "    transforms.CenterCrop(224),\n",
    "    transforms.ToTensor(), \n",
    "    transforms.Normalize((0.5, 0.5, 0.5), (0.5, 0.5, 0.5))\n",
    "])\n",
    "\n",
    "trainset = torchvision.datasets.CIFAR10(root='./data', train=True, download=True, transform=transform)\n",
    "\n",
    "testset = torchvision.datasets.CIFAR10(root='./data', train=False, download=True, transform=transform)\n",
    "\n",
    "testset, validationset = torch.utils.data.random_split(testset, [6000,4000], generator=torch.Generator().manual_seed(100))"
   ]
  },
  {
   "cell_type": "code",
   "execution_count": 3,
   "metadata": {},
   "outputs": [],
   "source": [
    "trainloader = torch.utils.data.DataLoader(trainset, batch_size=10, shuffle=True, num_workers=2)\n",
    "\n",
    "testloader = torch.utils.data.DataLoader(testset, batch_size=1, shuffle=False, num_workers=2)\n",
    "\n",
    "validationloader = torch.utils.data.DataLoader(validationset, batch_size=10, shuffle=True, num_workers=2)"
   ]
  },
  {
   "cell_type": "markdown",
   "metadata": {},
   "source": [
    "### Downloading AlexNet"
   ]
  },
  {
   "cell_type": "code",
   "execution_count": 63,
   "metadata": {},
   "outputs": [],
   "source": [
    "alexNet = torchvision.models.alexnet(pretrained = True, progress = True)\n",
    "alexNetPreTrained = torchvision.models.alexnet(pretrained = True, progress = True)"
   ]
  },
  {
   "cell_type": "code",
   "execution_count": 64,
   "metadata": {},
   "outputs": [],
   "source": [
    "for param in alexNetPreTrained.parameters():\n",
    "    param.requires_grad = False"
   ]
  },
  {
   "cell_type": "code",
   "execution_count": 65,
   "metadata": {},
   "outputs": [],
   "source": [
    "alexNet = nn.Sequential(\n",
    "    alexNet,\n",
    "    nn.ReLU(inplace=True),\n",
    "    nn.Linear(1000, 10)\n",
    ")\n",
    "\n",
    "alexNetPreTrained = nn.Sequential(\n",
    "    alexNetPreTrained,\n",
    "    nn.ReLU(inplace=True),\n",
    "    nn.Linear(1000, 10)\n",
    ")"
   ]
  },
  {
   "cell_type": "code",
   "execution_count": 66,
   "metadata": {},
   "outputs": [],
   "source": [
    "alexNet = alexNet.cuda()\n",
    "alexNetPreTrained = alexNetPreTrained.cuda()"
   ]
  },
  {
   "cell_type": "markdown",
   "metadata": {},
   "source": [
    "## Training the model for CIFAR10 data"
   ]
  },
  {
   "cell_type": "code",
   "execution_count": 53,
   "metadata": {},
   "outputs": [],
   "source": [
    "epochs = 20\n",
    "learning_rate = 0.0001\n",
    "criterion = nn.CrossEntropyLoss()\n",
    "optimizer = torch.optim.SGD(alexNet.parameters(), lr=learning_rate, weight_decay=1e-5)"
   ]
  },
  {
   "cell_type": "markdown",
   "metadata": {},
   "source": [
    "### Fine tuning the alexNet"
   ]
  },
  {
   "cell_type": "code",
   "execution_count": 32,
   "metadata": {
    "scrolled": true
   },
   "outputs": [
    {
     "name": "stdout",
     "output_type": "stream",
     "text": [
      "Epoch [20/20] 12499 Loss: 0.14509028196334840315\r"
     ]
    }
   ],
   "source": [
    "total_train_loss = []\n",
    "total_valid_loss = []\n",
    "for epoch in range(0, epochs):\n",
    "    train_loss = 0\n",
    "    for batch_nr, (images, labels) in enumerate(trainloader):\n",
    "        optimizer.zero_grad()\n",
    "        \n",
    "        images = images.cuda()\n",
    "        labels = labels.cuda()\n",
    "        \n",
    "        out = alexNet(images)\n",
    "        loss = criterion(out, labels)\n",
    "        train_loss += loss.item()\n",
    "        \n",
    "        loss.backward()\n",
    "        optimizer.step()\n",
    "        print(f\"Epoch [{epoch+1}/{epochs}] {batch_nr} Loss: {loss.item()}\", end=\"\\r\", flush=True)\n",
    "    \n",
    "    valid_loss = 0\n",
    "    for batch_nr, (images, labels) in enumerate(validationloader):\n",
    "        images = images.cuda()\n",
    "        labels = labels.cuda()\n",
    "        \n",
    "        out = alexNet(images)\n",
    "        loss = criterion(out, labels)\n",
    "        \n",
    "        valid_loss += loss.item()\n",
    "    \n",
    "    total_train_loss.append(train_loss/len(trainloader))\n",
    "    total_valid_loss.append(valid_loss/len(validationloader))\n",
    "        "
   ]
  },
  {
   "cell_type": "code",
   "execution_count": 33,
   "metadata": {},
   "outputs": [
    {
     "data": {
      "image/png": "[encoded data removed]",
      "text/plain": [
       "<Figure size 432x288 with 1 Axes>"
      ]
     },
     "metadata": {
      "needs_background": "light"
     },
     "output_type": "display_data"
    }
   ],
   "source": [
    "plt.plot(range(epochs), total_train_loss)\n",
    "plt.plot(range(epochs), total_valid_loss)\n",
    "plt.xlabel(\"Epoch\")\n",
    "plt.ylabel(\"Loss\")\n",
    "plt.show()"
   ]
  },
  {
   "cell_type": "code",
   "execution_count": 46,
   "metadata": {},
   "outputs": [],
   "source": [
    "correct = 0\n",
    "total = 0\n",
    "for batch_nr, (image, label) in enumerate(testloader):\n",
    "    image = image.cuda()\n",
    "    label = label.cuda()\n",
    "    \n",
    "    out = alexNet(image)\n",
    "    \n",
    "    if torch.argmax(out) == label[0]:\n",
    "        correct += 1\n",
    "    total += 1"
   ]
  },
  {
   "cell_type": "code",
   "execution_count": 47,
   "metadata": {},
   "outputs": [
    {
     "name": "stdout",
     "output_type": "stream",
     "text": [
      "Accuracy: 0.8785\n"
     ]
    }
   ],
   "source": [
    "print(f\"Accuracy: {correct/total}\")"
   ]
  },
  {
   "cell_type": "markdown",
   "metadata": {},
   "source": [
    "## Resluts"
   ]
  },
  {
   "cell_type": "markdown",
   "metadata": {},
   "source": [
    "**Accuracy after fine tuning for CIFAR10:** 87.85%"
   ]
  },
  {
   "cell_type": "markdown",
   "metadata": {},
   "source": [
    "### Feature extraction from AlexNet"
   ]
  },
  {
   "cell_type": "code",
   "execution_count": 68,
   "metadata": {},
   "outputs": [],
   "source": [
    "epochs = 20\n",
    "learning_rate = 0.0001\n",
    "criterion = nn.CrossEntropyLoss()\n",
    "optimizer = torch.optim.Adam(alexNetPreTrained.parameters(), lr=learning_rate, weight_decay=1e-5)"
   ]
  },
  {
   "cell_type": "code",
   "execution_count": 69,
   "metadata": {},
   "outputs": [
    {
     "name": "stdout",
     "output_type": "stream",
     "text": [
      "Epoch [20/20] 4999 Loss: 0.58679860830307016\r"
     ]
    }
   ],
   "source": [
    "total_train_loss = []\n",
    "total_valid_loss = []\n",
    "for epoch in range(0, epochs):\n",
    "    train_loss = 0\n",
    "    for batch_nr, (images, labels) in enumerate(trainloader):\n",
    "        optimizer.zero_grad()\n",
    "        \n",
    "        images = images.cuda()\n",
    "        labels = labels.cuda()\n",
    "\n",
    "        out = alexNetPreTrained(images)\n",
    "        loss = criterion(out, labels)\n",
    "        train_loss += loss.item()\n",
    "        \n",
    "        loss.backward()\n",
    "        optimizer.step()\n",
    "        print(f\"Epoch [{epoch+1}/{epochs}] {batch_nr} Loss: {loss.item()}\", end=\"\\r\", flush=True)\n",
    "    \n",
    "    valid_loss = 0\n",
    "    for batch_nr, (images, labels) in enumerate(validationloader):\n",
    "        images = images.cuda()\n",
    "        labels = labels.cuda()\n",
    "        \n",
    "        out = alexNetPreTrained(images)\n",
    "        loss = criterion(out, labels)\n",
    "        \n",
    "        valid_loss += loss.item()\n",
    "    \n",
    "    total_train_loss.append(train_loss/len(trainloader))\n",
    "    total_valid_loss.append(valid_loss/len(validationloader))"
   ]
  },
  {
   "cell_type": "code",
   "execution_count": 70,
   "metadata": {},
   "outputs": [
    {
     "data": {
      "image/png": "[encoded data removed]",
      "text/plain": [
       "<Figure size 432x288 with 1 Axes>"
      ]
     },
     "metadata": {
      "needs_background": "light"
     },
     "output_type": "display_data"
    }
   ],
   "source": [
    "plt.plot(range(epochs), total_train_loss)\n",
    "plt.plot(range(epochs), total_valid_loss)\n",
    "plt.xlabel(\"Epoch\")\n",
    "plt.ylabel(\"Loss\")\n",
    "plt.show()"
   ]
  },
  {
   "cell_type": "code",
   "execution_count": 71,
   "metadata": {},
   "outputs": [],
   "source": [
    "correct = 0\n",
    "total = 0\n",
    "for batch_nr, (image, label) in enumerate(testloader):\n",
    "    image = image.cuda()\n",
    "    label = label.cuda()\n",
    "    \n",
    "    out = alexNetPreTrained(image)\n",
    "    if torch.argmax(out) == label[0]:\n",
    "        correct += 1\n",
    "    total += 1"
   ]
  },
  {
   "cell_type": "code",
   "execution_count": 72,
   "metadata": {},
   "outputs": [
    {
     "name": "stdout",
     "output_type": "stream",
     "text": [
      "Accuracy: 0.6861666666666667\n"
     ]
    }
   ],
   "source": [
    "print(f\"Accuracy: {correct/total}\")"
   ]
  },
  {
   "cell_type": "markdown",
   "metadata": {},
   "source": [
    "## Results"
   ]
  },
  {
   "cell_type": "markdown",
   "metadata": {},
   "source": [
    "**Accuracy for feature extraction:** 12.03%"
   ]
  },
  {
   "cell_type": "markdown",
   "metadata": {},
   "source": [
    "# Transfer learning from MNIST"
   ]
  },
  {
   "cell_type": "markdown",
   "metadata": {},
   "source": [
    "## Training the CNN on  MNIST"
   ]
  },
  {
   "cell_type": "code",
   "execution_count": 72,
   "metadata": {},
   "outputs": [],
   "source": [
    "from tensorflow.keras.models import Model\n",
    "import cv2"
   ]
  },
  {
   "cell_type": "code",
   "execution_count": 73,
   "metadata": {},
   "outputs": [],
   "source": [
    "transformGray = torchvision.transforms.Grayscale(num_output_channels=3)"
   ]
  },
  {
   "cell_type": "code",
   "execution_count": 74,
   "metadata": {},
   "outputs": [],
   "source": [
    "MNIST_train = torchvision.datasets.MNIST(root=\"./data\",  download=True, transform=transformGray)"
   ]
  },
  {
   "cell_type": "code",
   "execution_count": 75,
   "metadata": {},
   "outputs": [],
   "source": [
    "MNIST_test = torchvision.datasets.MNIST(root=\"./data\", train=False,  download=True, transform=transformGray)"
   ]
  },
  {
   "cell_type": "code",
   "execution_count": 76,
   "metadata": {},
   "outputs": [],
   "source": [
    "x_train = []\n",
    "y_train = []\n",
    "for s in MNIST_train:\n",
    "    image = s[0]\n",
    "    label = s[1]\n",
    "    x_train.append(np.array(image))\n",
    "    y_train.append(np.array(label))\n",
    "x_train = np.array(x_train)\n",
    "y_train = np.array(y_train)"
   ]
  },
  {
   "cell_type": "code",
   "execution_count": 77,
   "metadata": {},
   "outputs": [
    {
     "name": "stdout",
     "output_type": "stream",
     "text": [
      "(60000, 1)\n",
      "(60000, 28, 28, 3)\n"
     ]
    }
   ],
   "source": [
    "y_train = np.reshape(y_train, (60000, 1))\n",
    "print(np.array(y_train).shape)\n",
    "print(np.array(x_train).shape)"
   ]
  },
  {
   "cell_type": "code",
   "execution_count": 78,
   "metadata": {},
   "outputs": [],
   "source": [
    "x_test = []\n",
    "y_test = []\n",
    "for s in MNIST_test:\n",
    "    image = s[0]\n",
    "    label = s[1]\n",
    "    x_test.append(np.array(image))\n",
    "    y_test.append(np.array(label))\n",
    "x_test = np.array(x_test)\n",
    "y_test = np.array(y_test)"
   ]
  },
  {
   "cell_type": "code",
   "execution_count": 79,
   "metadata": {},
   "outputs": [
    {
     "name": "stdout",
     "output_type": "stream",
     "text": [
      "(10000, 1)\n",
      "(10000, 28, 28, 3)\n"
     ]
    }
   ],
   "source": [
    "y_test = np.reshape(y_test, (10000, 1))\n",
    "print(np.array(y_test).shape)\n",
    "print(np.array(x_test).shape)"
   ]
  },
  {
   "cell_type": "code",
   "execution_count": 80,
   "metadata": {},
   "outputs": [],
   "source": [
    "def Convolution(input_tensor,filters):\n",
    "    x = Conv2D(filters=filters,kernel_size=(3, 3),padding = 'same',strides=(1, 1))(input_tensor)\n",
    "    x = Dropout(0.1)(x)\n",
    "    x = LeakyReLU()(x)\n",
    "    return x\n",
    "\n",
    "\n",
    "def model(input_shape):\n",
    "    inputs = Input((input_shape))\n",
    "    conv_1 = Convolution(inputs,32)\n",
    "    maxp_1 = MaxPooling2D(pool_size = (2, 2)) (conv_1)\n",
    "    conv_2 = Convolution(maxp_1,64)\n",
    "    maxp_2 = MaxPooling2D(pool_size = (2, 2)) (conv_2)\n",
    "    flatten = Flatten() (maxp_2)\n",
    "    dense_1 = Dense(4096,activation=LeakyReLU())(flatten)\n",
    "    drop_1 = Dropout(0.2)(dense_1)\n",
    "    output = Dense(10,activation=\"softmax\")(drop_1)\n",
    "\n",
    "    model = Model(inputs=[inputs], outputs=[output])\n",
    "    opt = keras.optimizers.Adam(learning_rate=0.0001)\n",
    "    model.compile(loss='sparse_categorical_crossentropy', optimizer=opt, metrics=[\"accuracy\"])\n",
    "    return model"
   ]
  },
  {
   "cell_type": "code",
   "execution_count": 81,
   "metadata": {},
   "outputs": [
    {
     "name": "stdout",
     "output_type": "stream",
     "text": [
      "Model: \"model_1\"\n",
      "_________________________________________________________________\n",
      "Layer (type)                 Output Shape              Param #   \n",
      "=================================================================\n",
      "input_2 (InputLayer)         [(None, 28, 28, 3)]       0         \n",
      "_________________________________________________________________\n",
      "conv2d_2 (Conv2D)            (None, 28, 28, 32)        896       \n",
      "_________________________________________________________________\n",
      "dropout_3 (Dropout)          (None, 28, 28, 32)        0         \n",
      "_________________________________________________________________\n",
      "leaky_re_lu_3 (LeakyReLU)    (None, 28, 28, 32)        0         \n",
      "_________________________________________________________________\n",
      "max_pooling2d_2 (MaxPooling2 (None, 14, 14, 32)        0         \n",
      "_________________________________________________________________\n",
      "conv2d_3 (Conv2D)            (None, 14, 14, 64)        18496     \n",
      "_________________________________________________________________\n",
      "dropout_4 (Dropout)          (None, 14, 14, 64)        0         \n",
      "_________________________________________________________________\n",
      "leaky_re_lu_4 (LeakyReLU)    (None, 14, 14, 64)        0         \n",
      "_________________________________________________________________\n",
      "max_pooling2d_3 (MaxPooling2 (None, 7, 7, 64)          0         \n",
      "_________________________________________________________________\n",
      "flatten_1 (Flatten)          (None, 3136)              0         \n",
      "_________________________________________________________________\n",
      "dense_2 (Dense)              (None, 4096)              12849152  \n",
      "_________________________________________________________________\n",
      "dropout_5 (Dropout)          (None, 4096)              0         \n",
      "_________________________________________________________________\n",
      "dense_3 (Dense)              (None, 10)                40970     \n",
      "=================================================================\n",
      "Total params: 12,909,514\n",
      "Trainable params: 12,909,514\n",
      "Non-trainable params: 0\n",
      "_________________________________________________________________\n"
     ]
    }
   ],
   "source": [
    "Model=model(input_shape = (28,28,3))\n",
    "Model.summary()"
   ]
  },
  {
   "cell_type": "code",
   "execution_count": 82,
   "metadata": {},
   "outputs": [
    {
     "name": "stdout",
     "output_type": "stream",
     "text": [
      "Epoch 1/10\n",
      "1125/1125 [==============================] - 76s 68ms/step - loss: 5.6006 - accuracy: 0.8631 - val_loss: 0.3795 - val_accuracy: 0.9659\n",
      "Epoch 2/10\n",
      "1125/1125 [==============================] - 77s 68ms/step - loss: 0.2673 - accuracy: 0.9712 - val_loss: 0.3489 - val_accuracy: 0.9652\n",
      "Epoch 3/10\n",
      "1125/1125 [==============================] - 78s 69ms/step - loss: 0.1941 - accuracy: 0.9765 - val_loss: 0.2698 - val_accuracy: 0.9736\n",
      "Epoch 4/10\n",
      "1125/1125 [==============================] - 76s 67ms/step - loss: 0.1467 - accuracy: 0.9812 - val_loss: 0.3118 - val_accuracy: 0.9704\n",
      "Epoch 5/10\n",
      "1125/1125 [==============================] - 78s 69ms/step - loss: 0.1199 - accuracy: 0.9844 - val_loss: 0.2398 - val_accuracy: 0.9787\n",
      "Epoch 6/10\n",
      "1125/1125 [==============================] - 77s 68ms/step - loss: 0.1315 - accuracy: 0.9824 - val_loss: 0.2855 - val_accuracy: 0.9773\n",
      "Epoch 7/10\n",
      "1125/1125 [==============================] - 78s 70ms/step - loss: 0.0934 - accuracy: 0.9878 - val_loss: 0.3553 - val_accuracy: 0.9735\n",
      "Epoch 8/10\n",
      "1125/1125 [==============================] - 77s 68ms/step - loss: 0.1009 - accuracy: 0.9873 - val_loss: 0.2922 - val_accuracy: 0.9786\n",
      "Epoch 9/10\n",
      "1125/1125 [==============================] - 75s 67ms/step - loss: 0.0948 - accuracy: 0.9888 - val_loss: 0.2838 - val_accuracy: 0.9785\n",
      "Epoch 10/10\n",
      "1125/1125 [==============================] - 75s 67ms/step - loss: 0.0721 - accuracy: 0.9906 - val_loss: 0.3849 - val_accuracy: 0.9749\n"
     ]
    }
   ],
   "source": [
    "History=Model.fit(x_train,y_train,batch_size=32,validation_split=0.4,epochs=10)"
   ]
  },
  {
   "cell_type": "code",
   "execution_count": 16,
   "metadata": {
    "scrolled": true
   },
   "outputs": [
    {
     "name": "stdout",
     "output_type": "stream",
     "text": [
      "10000/10000 [==============================] - 46s 5ms/step - loss: 0.2861 - accuracy: 0.9796\n"
     ]
    }
   ],
   "source": [
    "accuracy = Model.evaluate(x_test, y_test, batch_size=1)"
   ]
  },
  {
   "cell_type": "markdown",
   "metadata": {},
   "source": [
    "## Results on MNIST dataset\n",
    "**Accuracy:** 97.96%"
   ]
  },
  {
   "cell_type": "code",
   "execution_count": 63,
   "metadata": {},
   "outputs": [
    {
     "name": "stdout",
     "output_type": "stream",
     "text": [
      "60000/60000 [==============================] - 271s 5ms/step - loss: 0.2456 - accuracy: 0.9790ETA: 57s - loss: 0.2 - ETA: 55s - loss: 0.2052 - - ETA: 54s - loss: 0 - ETA: 53 - ETA: 51s - loss: 0.2106 -  - ETA: 50s - loss: 0.2109 - ETA: 49s - loss: - ETA: 46s -  - ETA: 42s - loss: 0.2253 - accuracy:  - ETA: 41s - loss: 0.2253 - accuracy: 0.97 - ETA: 41s - loss: 0.2254 - accuracy: 0. - ETA: 41s - loss: 0.2256 - - ETA: 40s - loss: 0.2266 - accuracy: 0.97 - ETA: 40s - loss: 0. - ETA: 39s - l - - ETA: 32s - loss: 0.2283 - accuracy: 0 - ETA: 32s - loss: 0.2285 - acc - ETA: 31s - loss: 0.2307 - accuracy: 0. - ETA: 29s - loss: 0.2322 - accurac - ETA: 28s - loss: 0.2323 - accuracy: 0.9 - ETA: 28s - loss: 0.2330 - ETA: 25s - loss: 0.2343 - ETA: 24s - loss: 0.2358 - accu - ETA: 23s - loss:  - ETA: 22s - loss: 0.2371 - accuracy: 0 - ETA: 2 - ETA: 0s - loss: 0.2446 - accura - ETA: 0s - loss: 0.244\n"
     ]
    }
   ],
   "source": [
    "accuracy2 = Model.evaluate(x_train, y_train, batch_size=1)"
   ]
  },
  {
   "cell_type": "code",
   "execution_count": 17,
   "metadata": {},
   "outputs": [
    {
     "data": {
      "image/png": "[encoded data removed]",
      "text/plain": [
       "<Figure size 432x288 with 1 Axes>"
      ]
     },
     "metadata": {
      "needs_background": "light"
     },
     "output_type": "display_data"
    }
   ],
   "source": [
    "plt.plot(History.history['loss'])\n",
    "plt.plot(History.history['val_loss'])\n",
    "plt.title('Model loss')\n",
    "plt.ylabel('Loss')\n",
    "plt.xlabel('Epoch')\n",
    "plt.legend(['Train', 'Validation'], loc='upper right')\n",
    "plt.subplots_adjust(top=1.00, bottom=0.0, left=0.0, right=0.95, hspace=0.25, wspace=0.35)"
   ]
  },
  {
   "cell_type": "markdown",
   "metadata": {},
   "source": [
    "## Fine tuning the model on SVHN dataset"
   ]
  },
  {
   "cell_type": "code",
   "execution_count": 62,
   "metadata": {},
   "outputs": [],
   "source": [
    "import torchvision\n",
    "from scipy.io import loadmat"
   ]
  },
  {
   "cell_type": "code",
   "execution_count": 63,
   "metadata": {},
   "outputs": [],
   "source": [
    "transformResize = torchvision.transforms.Resize(size=28)"
   ]
  },
  {
   "cell_type": "code",
   "execution_count": 64,
   "metadata": {},
   "outputs": [
    {
     "name": "stdout",
     "output_type": "stream",
     "text": [
      "Using downloaded and verified file: ./data\\train_32x32.mat\n"
     ]
    }
   ],
   "source": [
    "train_dataset = torchvision.datasets.SVHN(root=\"./data\", split=\"train\", transform=transformResize, download=True)"
   ]
  },
  {
   "cell_type": "code",
   "execution_count": 65,
   "metadata": {},
   "outputs": [
    {
     "name": "stdout",
     "output_type": "stream",
     "text": [
      "Using downloaded and verified file: ./data\\test_32x32.mat\n"
     ]
    }
   ],
   "source": [
    "test_dataset = torchvision.datasets.SVHN(root=\"./data\", split=\"test\", transform=transformResize, download=True)"
   ]
  },
  {
   "cell_type": "code",
   "execution_count": 66,
   "metadata": {},
   "outputs": [],
   "source": [
    "x_train = []\n",
    "y_train = []\n",
    "for s in train_dataset:\n",
    "    image = s[0]\n",
    "    label = s[1]\n",
    "    x_train.append(np.array(image))\n",
    "    y_train.append(np.array(label))\n",
    "x_train = np.array(x_train)\n",
    "y_train = np.array(y_train)"
   ]
  },
  {
   "cell_type": "code",
   "execution_count": 67,
   "metadata": {},
   "outputs": [
    {
     "name": "stdout",
     "output_type": "stream",
     "text": [
      "(73257, 1)\n",
      "(73257, 28, 28, 3)\n"
     ]
    }
   ],
   "source": [
    "y_train = np.reshape(y_train, (73257, 1))\n",
    "print(y_train.shape)\n",
    "print(x_train.shape)"
   ]
  },
  {
   "cell_type": "code",
   "execution_count": 68,
   "metadata": {},
   "outputs": [],
   "source": [
    "x_test = []\n",
    "y_test = []\n",
    "for s in test_dataset:\n",
    "    image = s[0]\n",
    "    label = s[1]\n",
    "    x_test.append(np.array(image))\n",
    "    y_test.append(np.array(label))\n",
    "x_test = np.array(x_test)\n",
    "y_test = np.array(y_test)"
   ]
  },
  {
   "cell_type": "code",
   "execution_count": 69,
   "metadata": {},
   "outputs": [
    {
     "name": "stdout",
     "output_type": "stream",
     "text": [
      "(26032, 1)\n",
      "(26032, 28, 28, 3)\n"
     ]
    }
   ],
   "source": [
    "y_test = np.reshape(y_test, (26032, 1))\n",
    "print(y_test.shape)\n",
    "print(x_test.shape)"
   ]
  },
  {
   "cell_type": "code",
   "execution_count": 70,
   "metadata": {},
   "outputs": [
    {
     "name": "stdout",
     "output_type": "stream",
     "text": [
      "Epoch 1/10\n",
      "1374/1374 [==============================] - 95s 69ms/step - loss: 1.6405 - accuracy: 0.6295 - val_loss: 0.7706 - val_accuracy: 0.7778\n",
      "Epoch 2/10\n",
      "1374/1374 [==============================] - 94s 69ms/step - loss: 0.7372 - accuracy: 0.7892 - val_loss: 0.6539 - val_accuracy: 0.8224\n",
      "Epoch 3/10\n",
      "1374/1374 [==============================] - 94s 68ms/step - loss: 0.5993 - accuracy: 0.8279 - val_loss: 0.5949 - val_accuracy: 0.8348\n",
      "Epoch 4/10\n",
      "1374/1374 [==============================] - 95s 69ms/step - loss: 0.5184 - accuracy: 0.8502 - val_loss: 0.5608 - val_accuracy: 0.8451\n",
      "Epoch 5/10\n",
      "1374/1374 [==============================] - 94s 69ms/step - loss: 0.4498 - accuracy: 0.8683 - val_loss: 0.5461 - val_accuracy: 0.8517\n",
      "Epoch 6/10\n",
      "1374/1374 [==============================] - 94s 69ms/step - loss: 0.4033 - accuracy: 0.8821 - val_loss: 0.5147 - val_accuracy: 0.8652\n",
      "Epoch 7/10\n",
      "1374/1374 [==============================] - 95s 69ms/step - loss: 0.3684 - accuracy: 0.8909 - val_loss: 0.5260 - val_accuracy: 0.8661\n",
      "Epoch 8/10\n",
      "1374/1374 [==============================] - 94s 69ms/step - loss: 0.3346 - accuracy: 0.9005 - val_loss: 0.5075 - val_accuracy: 0.8698\n",
      "Epoch 9/10\n",
      "1374/1374 [==============================] - 94s 69ms/step - loss: 0.3073 - accuracy: 0.9080 - val_loss: 0.5329 - val_accuracy: 0.8651\n",
      "Epoch 10/10\n",
      "1374/1374 [==============================] - 95s 69ms/step - loss: 0.2862 - accuracy: 0.9140 - val_loss: 0.5200 - val_accuracy: 0.8736\n"
     ]
    },
    {
     "data": {
      "text/plain": [
       "<tensorflow.python.keras.callbacks.History at 0x246005dbbb0>"
      ]
     },
     "execution_count": 70,
     "metadata": {},
     "output_type": "execute_result"
    }
   ],
   "source": [
    "History = Model.fit(x_train, y_train, batch_size=32, validation_split=0.4, epochs=10)"
   ]
  },
  {
   "cell_type": "code",
   "execution_count": 71,
   "metadata": {},
   "outputs": [
    {
     "name": "stdout",
     "output_type": "stream",
     "text": [
      "26032/26032 [==============================] - 119s 5ms/step - loss: 0.6200 - accuracy: 0.8572\n"
     ]
    }
   ],
   "source": [
    "accuracy = Model.evaluate(x_test, y_test, batch_size=1)"
   ]
  },
  {
   "cell_type": "markdown",
   "metadata": {},
   "source": [
    "## Results on SVHN after fine tuning\n",
    "**Accuracy:** 85.72%"
   ]
  },
  {
   "cell_type": "markdown",
   "metadata": {},
   "source": [
    "## Feature extraction for SVHN"
   ]
  },
  {
   "cell_type": "code",
   "execution_count": null,
   "metadata": {},
   "outputs": [],
   "source": []
  }
 ],
 "metadata": {
  "kernelspec": {
   "display_name": "Python 3",
   "language": "python",
   "name": "python3"
  },
  "language_info": {
   "codemirror_mode": {
    "name": "ipython",
    "version": 3
   },
   "file_extension": ".py",
   "mimetype": "text/x-python",
   "name": "python",
   "nbconvert_exporter": "python",
   "pygments_lexer": "ipython3",
   "version": "3.8.5"
  }
 },
 "nbformat": 4,
 "nbformat_minor": 4
}
