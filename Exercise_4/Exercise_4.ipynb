{
 "cells": [
  {
   "cell_type": "code",
   "execution_count": 1,
   "metadata": {},
   "outputs": [],
   "source": [
    "import tensorflow as tf\n",
    "from tensorflow import keras\n",
    "from sklearn.model_selection import train_test_split\n",
    "import numpy as np\n",
    "import math\n",
    "import matplotlib.pyplot as plt"
   ]
  },
  {
   "cell_type": "markdown",
   "metadata": {},
   "source": [
    "# Preprocessing"
   ]
  },
  {
   "cell_type": "code",
   "execution_count": 18,
   "metadata": {},
   "outputs": [
    {
     "name": "stdout",
     "output_type": "stream",
     "text": [
      "\n"
     ]
    }
   ],
   "source": [
    "f = open(\"data/shakespear_dataset.txt\", \"r\")\n",
    "text = f.read()\n",
    "\n",
    "dictionary = []\n",
    "for i in text:\n",
    "    if i not in dictionary:\n",
    "        dictionary.append(i)\n",
    "#print(dictionary)\n",
    "\n",
    "chunk_len = 200\n",
    "print()\n",
    "dataset = []\n",
    "k = 0\n",
    "for i in range(math.floor(len(text)/chunk_len)):\n",
    "    word = []\n",
    "    for j in range(k,k+chunk_len):\n",
    "        word.append(text[j])\n",
    "    k += chunk_len\n",
    "    dataset.append(word)\n",
    "#dataset = text.split()\n",
    "#print(dataset)\n"
   ]
  },
  {
   "cell_type": "code",
   "execution_count": 19,
   "metadata": {},
   "outputs": [
    {
     "name": "stdout",
     "output_type": "stream",
     "text": [
      "['F', 'i', 'r', 's', 't', ' ', 'C', 'z', 'e', 'n', ':', '\\n', 'B', 'f', 'o', 'w', 'p', 'c', 'd', 'a', 'y', 'u', 'h', ',', 'm', 'k', '.', 'A', 'l', 'S', 'Y', 'v', '?', 'R', 'M', 'W', \"'\", 'L', 'I', 'N', 'g', ';', 'b', '!', 'O', 'j', 'V', '-', 'T', 'H', 'E', 'U', 'D', 'P', 'q', 'x', 'J', 'G', 'K', 'Q', '&', 'Z', 'X', '3']\n"
     ]
    }
   ],
   "source": [
    "print(dictionary)"
   ]
  },
  {
   "cell_type": "code",
   "execution_count": 20,
   "metadata": {},
   "outputs": [
    {
     "name": "stdout",
     "output_type": "stream",
     "text": [
      "['F', 'i', 'r', 's', 't', ' ', 'C', 'i', 't', 'i', 'z', 'e', 'n', ':', '\\n', 'B', 'e', 'f', 'o', 'r', 'e', ' ', 'w', 'e', ' ', 'p', 'r', 'o', 'c', 'e', 'e', 'd', ' ', 'a', 'n', 'y', ' ', 'f', 'u', 'r', 't', 'h', 'e', 'r', ',', ' ', 'h', 'e', 'a', 'r', ' ', 'm', 'e', ' ', 's', 'p', 'e', 'a', 'k', '.', '\\n', '\\n', 'A', 'l', 'l', ':', '\\n', 'S', 'p', 'e', 'a', 'k', ',', ' ', 's', 'p', 'e', 'a', 'k', '.', '\\n', '\\n', 'F', 'i', 'r', 's', 't', ' ', 'C', 'i', 't', 'i', 'z', 'e', 'n', ':', '\\n', 'Y', 'o', 'u', ' ', 'a', 'r', 'e', ' ', 'a', 'l', 'l', ' ', 'r', 'e', 's', 'o', 'l', 'v', 'e', 'd', ' ', 'r', 'a', 't', 'h', 'e', 'r', ' ', 't', 'o', ' ', 'd', 'i', 'e', ' ', 't', 'h', 'a', 'n', ' ', 't', 'o', ' ', 'f', 'a', 'm', 'i', 's', 'h', '?', '\\n', '\\n', 'A', 'l', 'l', ':', '\\n', 'R', 'e', 's', 'o', 'l', 'v', 'e', 'd', '.', ' ', 'r', 'e', 's', 'o', 'l', 'v', 'e', 'd', '.', '\\n', '\\n', 'F', 'i', 'r', 's', 't', ' ', 'C', 'i', 't', 'i', 'z', 'e', 'n', ':', '\\n', 'F', 'i', 'r', 's', 't', ',', ' ', 'y', 'o', 'u']\n"
     ]
    }
   ],
   "source": [
    "print(dataset[0])"
   ]
  },
  {
   "cell_type": "code",
   "execution_count": 21,
   "metadata": {},
   "outputs": [],
   "source": [
    "def index(x):\n",
    "    i = 0\n",
    "    for k in dictionary:\n",
    "        if x == k:\n",
    "            return i\n",
    "        else:\n",
    "            i += 1\n",
    "\n",
    "def one_hot(character):\n",
    "    identity = np.identity(len(dictionary))\n",
    "    i = index(character)\n",
    "    one_h = identity[i]\n",
    "    return np.array(one_h)"
   ]
  },
  {
   "cell_type": "code",
   "execution_count": 22,
   "metadata": {
    "scrolled": false
   },
   "outputs": [
    {
     "name": "stdout",
     "output_type": "stream",
     "text": [
      "First word in x:\n",
      "[[1. 0. 0. ... 0. 0. 0.]\n",
      " [0. 1. 0. ... 0. 0. 0.]\n",
      " [0. 0. 1. ... 0. 0. 0.]\n",
      " ...\n",
      " [0. 0. 0. ... 0. 0. 0.]\n",
      " [0. 0. 0. ... 0. 0. 0.]\n",
      " [0. 0. 0. ... 0. 0. 0.]]\n",
      "First word in y:\n",
      "[[0. 1. 0. ... 0. 0. 0.]\n",
      " [0. 0. 1. ... 0. 0. 0.]\n",
      " [0. 0. 0. ... 0. 0. 0.]\n",
      " ...\n",
      " [0. 0. 0. ... 0. 0. 0.]\n",
      " [0. 0. 0. ... 0. 0. 0.]\n",
      " [0. 0. 0. ... 0. 0. 0.]]\n"
     ]
    }
   ],
   "source": [
    "x = []\n",
    "y = []\n",
    "for xe in dataset:\n",
    "    ind = len(xe)\n",
    "    y_word = xe[1:]\n",
    "    \n",
    "    x_word = xe[:ind-1]\n",
    "    x_one_hot = []\n",
    "    y_one_hot = []\n",
    "    for xc, yc in zip(x_word, y_word):\n",
    "        x_one_hot.append(one_hot(xc))\n",
    "        y_one_hot.append(one_hot(yc))\n",
    "    x.append(np.array(x_one_hot))\n",
    "    y.append(np.array(y_one_hot))\n",
    "x = np.array(x)\n",
    "y = np.array(y)\n",
    "print(\"First word in x:\")\n",
    "print(x[0])\n",
    "print(\"First word in y:\")\n",
    "print(y[0])"
   ]
  },
  {
   "cell_type": "code",
   "execution_count": 23,
   "metadata": {},
   "outputs": [],
   "source": [
    "x_train, x_test, y_train, y_test = train_test_split(x, y, test_size=0.4, train_size=0.6, random_state=None, shuffle=False, stratify=None)\n"
   ]
  },
  {
   "cell_type": "markdown",
   "metadata": {},
   "source": [
    "# Model"
   ]
  },
  {
   "cell_type": "code",
   "execution_count": 84,
   "metadata": {
    "scrolled": true
   },
   "outputs": [
    {
     "name": "stdout",
     "output_type": "stream",
     "text": [
      "Model: \"sequential_3\"\n",
      "_________________________________________________________________\n",
      "Layer (type)                 Output Shape              Param #   \n",
      "=================================================================\n",
      "gru_3 (GRU)                  (None, None, 600)         1198800   \n",
      "_________________________________________________________________\n",
      "lstm_3 (LSTM)                (None, None, 600)         2882400   \n",
      "_________________________________________________________________\n",
      "dense_3 (Dense)              (None, None, 64)          38464     \n",
      "=================================================================\n",
      "Total params: 4,119,664\n",
      "Trainable params: 4,119,664\n",
      "Non-trainable params: 0\n",
      "_________________________________________________________________\n"
     ]
    }
   ],
   "source": [
    "rnn = keras.Sequential()\n",
    "rnn.add(keras.layers.Input(shape=(None, len(dictionary))))\n",
    "#rnn.add(keras.layers.Embedding(input_dim=len(dictionary), output_dim=2, mask_zero=True))\n",
    "rnn.add(keras.layers.GRU(600, return_sequences=True))\n",
    "rnn.add(keras.layers.LSTM(600, return_sequences=True))\n",
    "rnn.add(keras.layers.Dense(len(dictionary), activation=keras.activations.softmax))\n",
    "rnn.summary()"
   ]
  },
  {
   "cell_type": "markdown",
   "metadata": {},
   "source": [
    "# Training"
   ]
  },
  {
   "cell_type": "code",
   "execution_count": 85,
   "metadata": {},
   "outputs": [
    {
     "name": "stdout",
     "output_type": "stream",
     "text": [
      "Epoch 1/40\n",
      "21/21 [==============================] - 84s 4s/step - loss: 4.0849 - accuracy: 0.1000 - val_loss: 3.4019 - val_accuracy: 0.1551\n",
      "Epoch 2/40\n",
      "21/21 [==============================] - 102s 5s/step - loss: 3.3698 - accuracy: 0.1313 - val_loss: 3.3301 - val_accuracy: 0.1551\n",
      "Epoch 3/40\n",
      "21/21 [==============================] - 88s 4s/step - loss: 3.3241 - accuracy: 0.1508 - val_loss: 3.3196 - val_accuracy: 0.1551\n",
      "Epoch 4/40\n",
      "21/21 [==============================] - 86s 4s/step - loss: 3.3188 - accuracy: 0.1508 - val_loss: 3.3140 - val_accuracy: 0.1551\n",
      "Epoch 5/40\n",
      "21/21 [==============================] - 86s 4s/step - loss: 3.3069 - accuracy: 0.1508 - val_loss: 3.2960 - val_accuracy: 0.1551\n",
      "Epoch 6/40\n",
      "21/21 [==============================] - 85s 4s/step - loss: 3.2843 - accuracy: 0.1508 - val_loss: 3.2660 - val_accuracy: 0.1552\n",
      "Epoch 7/40\n",
      "21/21 [==============================] - 88s 4s/step - loss: 3.2199 - accuracy: 0.1510 - val_loss: 3.1672 - val_accuracy: 0.1555\n",
      "Epoch 8/40\n",
      "21/21 [==============================] - 89s 4s/step - loss: 3.0818 - accuracy: 0.1692 - val_loss: 2.9833 - val_accuracy: 0.2046\n",
      "Epoch 9/40\n",
      "21/21 [==============================] - 118s 6s/step - loss: 2.8709 - accuracy: 0.2164 - val_loss: 2.7539 - val_accuracy: 0.2506\n",
      "Epoch 10/40\n",
      "21/21 [==============================] - 122s 6s/step - loss: 2.6483 - accuracy: 0.2666 - val_loss: 2.5713 - val_accuracy: 0.2768\n",
      "Epoch 11/40\n",
      "21/21 [==============================] - 127s 6s/step - loss: 2.4970 - accuracy: 0.3011 - val_loss: 2.4434 - val_accuracy: 0.3093\n",
      "Epoch 12/40\n",
      "21/21 [==============================] - 126s 6s/step - loss: 2.3813 - accuracy: 0.3237 - val_loss: 2.4137 - val_accuracy: 0.3093\n",
      "Epoch 13/40\n",
      "21/21 [==============================] - 125s 6s/step - loss: 2.3304 - accuracy: 0.3333 - val_loss: 2.3312 - val_accuracy: 0.3457\n",
      "Epoch 14/40\n",
      "21/21 [==============================] - 121s 6s/step - loss: 2.2536 - accuracy: 0.3562 - val_loss: 2.2779 - val_accuracy: 0.3510\n",
      "Epoch 15/40\n",
      "21/21 [==============================] - 124s 6s/step - loss: 2.1925 - accuracy: 0.3749 - val_loss: 2.2431 - val_accuracy: 0.3648\n",
      "Epoch 16/40\n",
      "21/21 [==============================] - 128s 6s/step - loss: 2.1278 - accuracy: 0.3940 - val_loss: 2.1807 - val_accuracy: 0.3847\n",
      "Epoch 17/40\n",
      "21/21 [==============================] - 129s 6s/step - loss: 2.0615 - accuracy: 0.4119 - val_loss: 2.1557 - val_accuracy: 0.3876\n",
      "Epoch 18/40\n",
      "21/21 [==============================] - 128s 6s/step - loss: 2.0003 - accuracy: 0.4271 - val_loss: 2.0971 - val_accuracy: 0.4041\n",
      "Epoch 19/40\n",
      "21/21 [==============================] - 129s 6s/step - loss: 1.9438 - accuracy: 0.4413 - val_loss: 2.0836 - val_accuracy: 0.4054\n",
      "Epoch 20/40\n",
      "21/21 [==============================] - 131s 6s/step - loss: 1.9016 - accuracy: 0.4508 - val_loss: 2.0372 - val_accuracy: 0.4196\n",
      "Epoch 21/40\n",
      "21/21 [==============================] - 130s 6s/step - loss: 1.8636 - accuracy: 0.4596 - val_loss: 2.0099 - val_accuracy: 0.4271\n",
      "Epoch 22/40\n",
      "21/21 [==============================] - 130s 6s/step - loss: 1.8272 - accuracy: 0.4681 - val_loss: 1.9908 - val_accuracy: 0.4332\n",
      "Epoch 23/40\n",
      "21/21 [==============================] - 130s 6s/step - loss: 1.7967 - accuracy: 0.4774 - val_loss: 2.0158 - val_accuracy: 0.4257\n",
      "Epoch 24/40\n",
      "21/21 [==============================] - 129s 6s/step - loss: 1.7809 - accuracy: 0.4814 - val_loss: 1.9523 - val_accuracy: 0.4493\n",
      "Epoch 25/40\n",
      "21/21 [==============================] - 131s 6s/step - loss: 1.7423 - accuracy: 0.4924 - val_loss: 1.9304 - val_accuracy: 0.4540\n",
      "Epoch 26/40\n",
      "21/21 [==============================] - 131s 6s/step - loss: 1.7208 - accuracy: 0.4978 - val_loss: 1.9367 - val_accuracy: 0.4521\n",
      "Epoch 27/40\n",
      "21/21 [==============================] - 131s 6s/step - loss: 1.7066 - accuracy: 0.5009 - val_loss: 1.9141 - val_accuracy: 0.4582\n",
      "Epoch 28/40\n",
      "21/21 [==============================] - 128s 6s/step - loss: 1.6810 - accuracy: 0.5072 - val_loss: 1.9000 - val_accuracy: 0.4635\n",
      "Epoch 29/40\n",
      "21/21 [==============================] - 127s 6s/step - loss: 1.6631 - accuracy: 0.5116 - val_loss: 1.8905 - val_accuracy: 0.4686\n",
      "Epoch 30/40\n",
      "21/21 [==============================] - 130s 6s/step - loss: 1.6415 - accuracy: 0.5173 - val_loss: 1.8848 - val_accuracy: 0.4694\n",
      "Epoch 31/40\n",
      "21/21 [==============================] - 131s 6s/step - loss: 1.6282 - accuracy: 0.5204 - val_loss: 1.8813 - val_accuracy: 0.4692\n",
      "Epoch 32/40\n",
      "21/21 [==============================] - 143s 7s/step - loss: 1.6160 - accuracy: 0.5235 - val_loss: 1.8698 - val_accuracy: 0.4729\n",
      "Epoch 33/40\n",
      "21/21 [==============================] - 162s 8s/step - loss: 1.5979 - accuracy: 0.5275 - val_loss: 1.8594 - val_accuracy: 0.4762\n",
      "Epoch 34/40\n",
      "21/21 [==============================] - 130s 6s/step - loss: 1.5884 - accuracy: 0.5294 - val_loss: 1.8514 - val_accuracy: 0.4775\n",
      "Epoch 35/40\n",
      "21/21 [==============================] - 128s 6s/step - loss: 1.5749 - accuracy: 0.5324 - val_loss: 1.8503 - val_accuracy: 0.4765\n",
      "Epoch 36/40\n",
      "21/21 [==============================] - 171s 8s/step - loss: 1.5674 - accuracy: 0.5342 - val_loss: 1.8381 - val_accuracy: 0.4816\n",
      "Epoch 37/40\n",
      "21/21 [==============================] - 176s 8s/step - loss: 1.5526 - accuracy: 0.5380 - val_loss: 1.8450 - val_accuracy: 0.4809\n",
      "Epoch 38/40\n",
      "21/21 [==============================] - 177s 8s/step - loss: 1.5447 - accuracy: 0.5396 - val_loss: 1.8372 - val_accuracy: 0.4815\n",
      "Epoch 39/40\n",
      "21/21 [==============================] - 172s 8s/step - loss: 1.5353 - accuracy: 0.5413 - val_loss: 1.8251 - val_accuracy: 0.4868\n",
      "Epoch 40/40\n",
      "21/21 [==============================] - 176s 8s/step - loss: 1.5258 - accuracy: 0.5443 - val_loss: 1.8376 - val_accuracy: 0.4823\n"
     ]
    }
   ],
   "source": [
    "opt = keras.optimizers.Adam(learning_rate=0.01)\n",
    "loss_fn = keras.losses.CategoricalCrossentropy(from_logits=False)\n",
    "rnn.compile(optimizer=opt, \n",
    "            loss=loss_fn,\n",
    "            metrics=['accuracy'])\n",
    "\n",
    "history = rnn.fit(x=x_train, y=y_train, batch_size=100, epochs=40, validation_split=0.4)"
   ]
  },
  {
   "cell_type": "code",
   "execution_count": 86,
   "metadata": {},
   "outputs": [
    {
     "data": {
      "image/png": "[encoded data removed]",
      "text/plain": [
       "<Figure size 432x288 with 1 Axes>"
      ]
     },
     "metadata": {
      "needs_background": "light"
     },
     "output_type": "display_data"
    }
   ],
   "source": [
    "plt.plot(history.history['loss'])\n",
    "plt.plot(history.history['val_loss'])\n",
    "plt.title('Model loss')\n",
    "plt.ylabel('Loss')\n",
    "plt.xlabel('Epoch')\n",
    "plt.legend(['Train', 'Validation'], loc='upper right')\n",
    "plt.subplots_adjust(top=1.00, bottom=0.0, left=0.0, right=0.95, hspace=0.25, wspace=0.35)"
   ]
  },
  {
   "cell_type": "code",
   "execution_count": 87,
   "metadata": {},
   "outputs": [
    {
     "data": {
      "text/plain": [
       "Text(0.5, 0, 'Epoch')"
      ]
     },
     "execution_count": 87,
     "metadata": {},
     "output_type": "execute_result"
    },
    {
     "data": {
      "image/png": "[encoded data removed]",
      "text/plain": [
       "<Figure size 432x288 with 1 Axes>"
      ]
     },
     "metadata": {
      "needs_background": "light"
     },
     "output_type": "display_data"
    }
   ],
   "source": [
    "l = history.history[\"loss\"]\n",
    "exp_loss = tf.exp(l)\n",
    "plt.plot(exp_loss)\n",
    "plt.title('Model perplexity')\n",
    "plt.ylabel('perplexity')\n",
    "plt.xlabel('Epoch')"
   ]
  },
  {
   "cell_type": "code",
   "execution_count": 88,
   "metadata": {},
   "outputs": [
    {
     "data": {
      "text/plain": [
       "Text(0.5, 0, 'Epoch')"
      ]
     },
     "execution_count": 88,
     "metadata": {},
     "output_type": "execute_result"
    },
    {
     "data": {
      "image/png": "[encoded data removed]",
      "text/plain": [
       "<Figure size 432x288 with 1 Axes>"
      ]
     },
     "metadata": {
      "needs_background": "light"
     },
     "output_type": "display_data"
    }
   ],
   "source": [
    "l = history.history[\"val_loss\"]\n",
    "exp_loss = tf.exp(l)\n",
    "plt.plot(exp_loss)\n",
    "plt.title('Model perplexity')\n",
    "plt.ylabel('perplexity')\n",
    "plt.xlabel('Epoch')"
   ]
  },
  {
   "cell_type": "code",
   "execution_count": 89,
   "metadata": {},
   "outputs": [
    {
     "name": "stdout",
     "output_type": "stream",
     "text": [
      "70/70 [==============================] - 68s 975ms/step - loss: 1.9381 - accuracy: 0.4599\n"
     ]
    },
    {
     "data": {
      "text/plain": [
       "[1.9381409883499146, 0.459883451461792]"
      ]
     },
     "execution_count": 89,
     "metadata": {},
     "output_type": "execute_result"
    }
   ],
   "source": [
    "rnn.evaluate(x_test, y_test)"
   ]
  },
  {
   "cell_type": "code",
   "execution_count": 90,
   "metadata": {},
   "outputs": [],
   "source": [
    "def evaluate(model, prime_str, predict_len):\n",
    "    #model.reset_states(states=[np.zeros((100, nodes)), np.zeros((batch_size, nodes))])\n",
    "    predicted = prime_str\n",
    "    #priming\n",
    "    for char in prime_str:\n",
    "        one_hot_char = one_hot(char)\n",
    "        one_hot_char = np.reshape(one_hot_char, (1, 64))\n",
    "        output = model.predict(np.array([one_hot_char]))\n",
    "    inp = one_hot(prime_str[-1])\n",
    "    \n",
    "    for i in range(predict_len):\n",
    "        inp = np.reshape(inp, (1, 64))\n",
    "        output = model.predict(np.array([inp]))\n",
    "        prediction = dictionary[np.argmax(output)]\n",
    "        predicted += prediction\n",
    "        inp = output\n",
    "    return predicted"
   ]
  },
  {
   "cell_type": "code",
   "execution_count": 91,
   "metadata": {},
   "outputs": [],
   "source": [
    "import random\n",
    "def generate_primer(length):\n",
    "    string = \"\"\n",
    "    for i in range(length):\n",
    "        index = random.randint(0, len(dictionary)-1)\n",
    "        string += dictionary[index]\n",
    "    return string"
   ]
  },
  {
   "cell_type": "code",
   "execution_count": 92,
   "metadata": {},
   "outputs": [
    {
     "name": "stdout",
     "output_type": "stream",
     "text": [
      "OIzY;\n",
      "OIzY; TEn Coro o oero o o se o o o o o se o o o o oete o o o oe o o o oere o oete o o o o o se o o o o o \n",
      "105\n"
     ]
    }
   ],
   "source": [
    "pr = generate_primer(5)\n",
    "print(pr)\n",
    "test = evaluate(rnn, pr, 100)\n",
    "print(test)\n",
    "print(len(test))"
   ]
  },
  {
   "cell_type": "code",
   "execution_count": 93,
   "metadata": {},
   "outputs": [
    {
     "name": "stdout",
     "output_type": "stream",
     "text": [
      "t-hLx\n",
      "t-hLxpe e o oero o o se o o o o o se o o o o o se o o o o o se o o o o oero o o se o o o o o oe o o o oet\n",
      "105\n"
     ]
    }
   ],
   "source": [
    "pr = generate_primer(5)\n",
    "print(pr)\n",
    "test = evaluate(rnn, pr, 100)\n",
    "print(test)\n",
    "print(len(test))"
   ]
  },
  {
   "cell_type": "code",
   "execution_count": 94,
   "metadata": {},
   "outputs": [
    {
     "name": "stdout",
     "output_type": "stream",
     "text": [
      "pDqEI\n",
      "pDqEI Go oe o o o oete o o o o oete o o oete o o o o oete o o o o oe o o o o se o o o o o se o o o o se o\n",
      "105\n"
     ]
    }
   ],
   "source": [
    "pr = generate_primer(5)\n",
    "print(pr)\n",
    "test = evaluate(rnn, pr, 100)\n",
    "print(test)\n",
    "print(len(test))"
   ]
  },
  {
   "cell_type": "code",
   "execution_count": 95,
   "metadata": {},
   "outputs": [],
   "source": [
    "primers = [\"The\", \"What is\", \"Shall I give\", \"XhNYB BHN BYFVuhsdbs\"]"
   ]
  },
  {
   "cell_type": "code",
   "execution_count": 96,
   "metadata": {},
   "outputs": [
    {
     "name": "stdout",
     "output_type": "stream",
     "text": [
      "The\n",
      "The o o oete o o o o o se o o o o o se o o o o oe o o o oe o o o o se o o o o o se o o o o oere o o se \n",
      "103\n",
      "What is\n",
      "What is o oete o o o o o se o o o o oete o o o o o se o o o o o se o o o o o oe o o o o se o o o o o se o o\n",
      "107\n",
      "Shall I give\n",
      "Shall I give o o oete o o o o o se o o o o o se o o o o oe o o o oe o o o o se o o o o o se o o o o oere o o se \n",
      "112\n",
      "XhNYB BHN BYFVuhsdbs\n",
      "XhNYB BHN BYFVuhsdbs o oete o o o o o se o o o o oete o o o o o se o o o o o se o o o o o oe o o o o se o o o o o se o o\n",
      "120\n"
     ]
    }
   ],
   "source": [
    "for pr in primers:\n",
    "    print(pr)\n",
    "    test = evaluate(rnn, pr, 100)\n",
    "    print(test)\n",
    "    print(len(test))"
   ]
  },
  {
   "cell_type": "code",
   "execution_count": 130,
   "metadata": {},
   "outputs": [
    {
     "name": "stdout",
     "output_type": "stream",
     "text": [
      "XhNYB BHN BYFVuhsdbs\n",
      "XhNYB BHN BYFVuhsdbs aeeeeeerenenenenenenenenenenenenenenenenenenenenenenenenenenenenenenenenenenenenenenenenenenenenene\n",
      "120\n"
     ]
    }
   ],
   "source": [
    "print(primers[-1])\n",
    "test = evaluate(rnn, primers[-1], 100)\n",
    "print(test)\n",
    "print(len(test))"
   ]
  },
  {
   "cell_type": "markdown",
   "metadata": {},
   "source": [
    "# Word RNN"
   ]
  },
  {
   "cell_type": "markdown",
   "metadata": {},
   "source": [
    "# Preprocessing"
   ]
  },
  {
   "cell_type": "code",
   "execution_count": 3,
   "metadata": {},
   "outputs": [
    {
     "name": "stdout",
     "output_type": "stream",
     "text": [
      "\n",
      "['First', 'Citizen:', 'Before', 'we', 'proceed', 'any', 'further,', 'hear', 'me', 'speak.', 'All:', 'Speak,', 'speak.', 'First', 'Citizen:']\n"
     ]
    }
   ],
   "source": [
    "f = open(\"data/shakespear_dataset.txt\", \"r\")\n",
    "text = f.read()\n",
    "wordlist = []\n",
    "wordlist = text.split()\n",
    "dictionary = []\n",
    "for i in wordlist:\n",
    "    if i not in dictionary:\n",
    "        dictionary.append(i)\n",
    "#print(dictionary)\n",
    "\n",
    "chunk_len = 15\n",
    "print()\n",
    "dataset = []\n",
    "k = 0\n",
    "for i in range(math.floor(len(wordlist)/chunk_len)):\n",
    "    sentence = []\n",
    "    for j in range(k,k+chunk_len):\n",
    "        sentence.append(wordlist[j])\n",
    "    k += chunk_len\n",
    "    dataset.append(sentence)\n",
    "#dataset = text.split()\n",
    "print(dataset[0])"
   ]
  },
  {
   "cell_type": "code",
   "execution_count": 235,
   "metadata": {},
   "outputs": [],
   "source": [
    "# def indexing(sentence):\n",
    "#     indexed = []\n",
    "#     for word in sentence:\n",
    "#         ind = dictionary.index(word)\n",
    "#         indexed.append(ind)\n",
    "#     return indexed"
   ]
  },
  {
   "cell_type": "code",
   "execution_count": 236,
   "metadata": {},
   "outputs": [],
   "source": [
    "# new_dataset = []\n",
    "# for sentence in dataset:\n",
    "#     indexed_sentence = indexing(sentence)\n",
    "#     new_dataset.append(indexed_sentence)"
   ]
  },
  {
   "cell_type": "code",
   "execution_count": 237,
   "metadata": {},
   "outputs": [],
   "source": [
    "# def bow_embedder(sentence, vocab_len):\n",
    "#     bow = np.zeros(vocab_len)\n",
    "#     for index in sentence:\n",
    "#         bow[index] += 1\n",
    "#     return bow"
   ]
  },
  {
   "cell_type": "code",
   "execution_count": 238,
   "metadata": {},
   "outputs": [],
   "source": [
    "# for i in range(len(new_dataset)):\n",
    "#     sentence = new_dataset[i]\n",
    "#     bow = bow_embedder(sentence, len(dictionary))\n",
    "#     new_dataset[i] = bow"
   ]
  },
  {
   "cell_type": "code",
   "execution_count": 7,
   "metadata": {},
   "outputs": [],
   "source": [
    "x = []\n",
    "y = []\n",
    "for sentence in dataset:\n",
    "    x.append(np.array(sentence[:-1]))\n",
    "    y.append(np.array(sentence[1:]))\n",
    "x = np.array(x)\n",
    "y = np.array(y)"
   ]
  },
  {
   "cell_type": "code",
   "execution_count": 8,
   "metadata": {},
   "outputs": [],
   "source": [
    "x_train, x_test, y_train, y_test = train_test_split(x, y, test_size=0.4, train_size=0.6, random_state=None, shuffle=False, stratify=None)"
   ]
  },
  {
   "cell_type": "markdown",
   "metadata": {},
   "source": [
    "# Model"
   ]
  },
  {
   "cell_type": "code",
   "execution_count": 9,
   "metadata": {},
   "outputs": [
    {
     "name": "stdout",
     "output_type": "stream",
     "text": [
      "Model: \"sequential_1\"\n",
      "_________________________________________________________________\n",
      "Layer (type)                 Output Shape              Param #   \n",
      "=================================================================\n",
      "embedding_1 (Embedding)      (None, None, 64)          1642816   \n",
      "_________________________________________________________________\n",
      "gru_1 (GRU)                  (None, None, 300)         329400    \n",
      "_________________________________________________________________\n",
      "lstm_1 (LSTM)                (None, None, 200)         400800    \n",
      "_________________________________________________________________\n",
      "dense_1 (Dense)              (None, None, 25669)       5159469   \n",
      "=================================================================\n",
      "Total params: 7,532,485\n",
      "Trainable params: 7,532,485\n",
      "Non-trainable params: 0\n",
      "_________________________________________________________________\n"
     ]
    }
   ],
   "source": [
    "rnn = keras.Sequential()\n",
    "#rnn.add(keras.layers.Input(shape=(None, len(dictionary))))\n",
    "rnn.add(keras.layers.Embedding(input_dim=len(dictionary), output_dim=64))\n",
    "rnn.add(keras.layers.GRU(300, return_sequences=True))\n",
    "rnn.add(keras.layers.LSTM(200, return_sequences=True))\n",
    "rnn.add(keras.layers.Dense(len(dictionary), activation=keras.activations.softmax))\n",
    "rnn.summary()"
   ]
  },
  {
   "cell_type": "code",
   "execution_count": 10,
   "metadata": {},
   "outputs": [
    {
     "name": "stdout",
     "output_type": "stream",
     "text": [
      "Epoch 1/40\n"
     ]
    },
    {
     "ename": "ValueError",
     "evalue": "in user code:\n\n    D:\\anaconda\\lib\\site-packages\\tensorflow\\python\\keras\\engine\\training.py:806 train_function  *\n        return step_function(self, iterator)\n    D:\\anaconda\\lib\\site-packages\\tensorflow\\python\\keras\\engine\\training.py:796 step_function  **\n        outputs = model.distribute_strategy.run(run_step, args=(data,))\n    D:\\anaconda\\lib\\site-packages\\tensorflow\\python\\distribute\\distribute_lib.py:1211 run\n        return self._extended.call_for_each_replica(fn, args=args, kwargs=kwargs)\n    D:\\anaconda\\lib\\site-packages\\tensorflow\\python\\distribute\\distribute_lib.py:2585 call_for_each_replica\n        return self._call_for_each_replica(fn, args, kwargs)\n    D:\\anaconda\\lib\\site-packages\\tensorflow\\python\\distribute\\distribute_lib.py:2945 _call_for_each_replica\n        return fn(*args, **kwargs)\n    D:\\anaconda\\lib\\site-packages\\tensorflow\\python\\keras\\engine\\training.py:789 run_step  **\n        outputs = model.train_step(data)\n    D:\\anaconda\\lib\\site-packages\\tensorflow\\python\\keras\\engine\\training.py:748 train_step\n        loss = self.compiled_loss(\n    D:\\anaconda\\lib\\site-packages\\tensorflow\\python\\keras\\engine\\compile_utils.py:204 __call__\n        loss_value = loss_obj(y_t, y_p, sample_weight=sw)\n    D:\\anaconda\\lib\\site-packages\\tensorflow\\python\\keras\\losses.py:149 __call__\n        losses = ag_call(y_true, y_pred)\n    D:\\anaconda\\lib\\site-packages\\tensorflow\\python\\keras\\losses.py:253 call  **\n        return ag_fn(y_true, y_pred, **self._fn_kwargs)\n    D:\\anaconda\\lib\\site-packages\\tensorflow\\python\\util\\dispatch.py:201 wrapper\n        return target(*args, **kwargs)\n    D:\\anaconda\\lib\\site-packages\\tensorflow\\python\\keras\\losses.py:1535 categorical_crossentropy\n        return K.categorical_crossentropy(y_true, y_pred, from_logits=from_logits)\n    D:\\anaconda\\lib\\site-packages\\tensorflow\\python\\util\\dispatch.py:201 wrapper\n        return target(*args, **kwargs)\n    D:\\anaconda\\lib\\site-packages\\tensorflow\\python\\keras\\backend.py:4687 categorical_crossentropy\n        target.shape.assert_is_compatible_with(output.shape)\n    D:\\anaconda\\lib\\site-packages\\tensorflow\\python\\framework\\tensor_shape.py:1134 assert_is_compatible_with\n        raise ValueError(\"Shapes %s and %s are incompatible\" % (self, other))\n\n    ValueError: Shapes (None, 14) and (None, 14, 25669) are incompatible\n",
     "output_type": "error",
     "traceback": [
      "\u001b[1;31m---------------------------------------------------------------------------\u001b[0m",
      "\u001b[1;31mValueError\u001b[0m                                Traceback (most recent call last)",
      "\u001b[1;32m<ipython-input-10-b8b064a6a473>\u001b[0m in \u001b[0;36m<module>\u001b[1;34m\u001b[0m\n\u001b[0;32m      5\u001b[0m             metrics=['accuracy'])\n\u001b[0;32m      6\u001b[0m \u001b[1;33m\u001b[0m\u001b[0m\n\u001b[1;32m----> 7\u001b[1;33m \u001b[0mhistory\u001b[0m \u001b[1;33m=\u001b[0m \u001b[0mrnn\u001b[0m\u001b[1;33m.\u001b[0m\u001b[0mfit\u001b[0m\u001b[1;33m(\u001b[0m\u001b[0mx\u001b[0m\u001b[1;33m=\u001b[0m\u001b[0mx_train\u001b[0m\u001b[1;33m,\u001b[0m \u001b[0my\u001b[0m\u001b[1;33m=\u001b[0m\u001b[0my_train\u001b[0m\u001b[1;33m,\u001b[0m \u001b[0mbatch_size\u001b[0m\u001b[1;33m=\u001b[0m\u001b[1;36m100\u001b[0m\u001b[1;33m,\u001b[0m \u001b[0mepochs\u001b[0m\u001b[1;33m=\u001b[0m\u001b[1;36m40\u001b[0m\u001b[1;33m,\u001b[0m \u001b[0mvalidation_split\u001b[0m\u001b[1;33m=\u001b[0m\u001b[1;36m0.4\u001b[0m\u001b[1;33m)\u001b[0m\u001b[1;33m\u001b[0m\u001b[1;33m\u001b[0m\u001b[0m\n\u001b[0m",
      "\u001b[1;32mD:\\anaconda\\lib\\site-packages\\tensorflow\\python\\keras\\engine\\training.py\u001b[0m in \u001b[0;36m_method_wrapper\u001b[1;34m(self, *args, **kwargs)\u001b[0m\n\u001b[0;32m    106\u001b[0m   \u001b[1;32mdef\u001b[0m \u001b[0m_method_wrapper\u001b[0m\u001b[1;33m(\u001b[0m\u001b[0mself\u001b[0m\u001b[1;33m,\u001b[0m \u001b[1;33m*\u001b[0m\u001b[0margs\u001b[0m\u001b[1;33m,\u001b[0m \u001b[1;33m**\u001b[0m\u001b[0mkwargs\u001b[0m\u001b[1;33m)\u001b[0m\u001b[1;33m:\u001b[0m\u001b[1;33m\u001b[0m\u001b[1;33m\u001b[0m\u001b[0m\n\u001b[0;32m    107\u001b[0m     \u001b[1;32mif\u001b[0m \u001b[1;32mnot\u001b[0m \u001b[0mself\u001b[0m\u001b[1;33m.\u001b[0m\u001b[0m_in_multi_worker_mode\u001b[0m\u001b[1;33m(\u001b[0m\u001b[1;33m)\u001b[0m\u001b[1;33m:\u001b[0m  \u001b[1;31m# pylint: disable=protected-access\u001b[0m\u001b[1;33m\u001b[0m\u001b[1;33m\u001b[0m\u001b[0m\n\u001b[1;32m--> 108\u001b[1;33m       \u001b[1;32mreturn\u001b[0m \u001b[0mmethod\u001b[0m\u001b[1;33m(\u001b[0m\u001b[0mself\u001b[0m\u001b[1;33m,\u001b[0m \u001b[1;33m*\u001b[0m\u001b[0margs\u001b[0m\u001b[1;33m,\u001b[0m \u001b[1;33m**\u001b[0m\u001b[0mkwargs\u001b[0m\u001b[1;33m)\u001b[0m\u001b[1;33m\u001b[0m\u001b[1;33m\u001b[0m\u001b[0m\n\u001b[0m\u001b[0;32m    109\u001b[0m \u001b[1;33m\u001b[0m\u001b[0m\n\u001b[0;32m    110\u001b[0m     \u001b[1;31m# Running inside `run_distribute_coordinator` already.\u001b[0m\u001b[1;33m\u001b[0m\u001b[1;33m\u001b[0m\u001b[1;33m\u001b[0m\u001b[0m\n",
      "\u001b[1;32mD:\\anaconda\\lib\\site-packages\\tensorflow\\python\\keras\\engine\\training.py\u001b[0m in \u001b[0;36mfit\u001b[1;34m(self, x, y, batch_size, epochs, verbose, callbacks, validation_split, validation_data, shuffle, class_weight, sample_weight, initial_epoch, steps_per_epoch, validation_steps, validation_batch_size, validation_freq, max_queue_size, workers, use_multiprocessing)\u001b[0m\n\u001b[0;32m   1096\u001b[0m                 batch_size=batch_size):\n\u001b[0;32m   1097\u001b[0m               \u001b[0mcallbacks\u001b[0m\u001b[1;33m.\u001b[0m\u001b[0mon_train_batch_begin\u001b[0m\u001b[1;33m(\u001b[0m\u001b[0mstep\u001b[0m\u001b[1;33m)\u001b[0m\u001b[1;33m\u001b[0m\u001b[1;33m\u001b[0m\u001b[0m\n\u001b[1;32m-> 1098\u001b[1;33m               \u001b[0mtmp_logs\u001b[0m \u001b[1;33m=\u001b[0m \u001b[0mtrain_function\u001b[0m\u001b[1;33m(\u001b[0m\u001b[0miterator\u001b[0m\u001b[1;33m)\u001b[0m\u001b[1;33m\u001b[0m\u001b[1;33m\u001b[0m\u001b[0m\n\u001b[0m\u001b[0;32m   1099\u001b[0m               \u001b[1;32mif\u001b[0m \u001b[0mdata_handler\u001b[0m\u001b[1;33m.\u001b[0m\u001b[0mshould_sync\u001b[0m\u001b[1;33m:\u001b[0m\u001b[1;33m\u001b[0m\u001b[1;33m\u001b[0m\u001b[0m\n\u001b[0;32m   1100\u001b[0m                 \u001b[0mcontext\u001b[0m\u001b[1;33m.\u001b[0m\u001b[0masync_wait\u001b[0m\u001b[1;33m(\u001b[0m\u001b[1;33m)\u001b[0m\u001b[1;33m\u001b[0m\u001b[1;33m\u001b[0m\u001b[0m\n",
      "\u001b[1;32mD:\\anaconda\\lib\\site-packages\\tensorflow\\python\\eager\\def_function.py\u001b[0m in \u001b[0;36m__call__\u001b[1;34m(self, *args, **kwds)\u001b[0m\n\u001b[0;32m    778\u001b[0m       \u001b[1;32melse\u001b[0m\u001b[1;33m:\u001b[0m\u001b[1;33m\u001b[0m\u001b[1;33m\u001b[0m\u001b[0m\n\u001b[0;32m    779\u001b[0m         \u001b[0mcompiler\u001b[0m \u001b[1;33m=\u001b[0m \u001b[1;34m\"nonXla\"\u001b[0m\u001b[1;33m\u001b[0m\u001b[1;33m\u001b[0m\u001b[0m\n\u001b[1;32m--> 780\u001b[1;33m         \u001b[0mresult\u001b[0m \u001b[1;33m=\u001b[0m \u001b[0mself\u001b[0m\u001b[1;33m.\u001b[0m\u001b[0m_call\u001b[0m\u001b[1;33m(\u001b[0m\u001b[1;33m*\u001b[0m\u001b[0margs\u001b[0m\u001b[1;33m,\u001b[0m \u001b[1;33m**\u001b[0m\u001b[0mkwds\u001b[0m\u001b[1;33m)\u001b[0m\u001b[1;33m\u001b[0m\u001b[1;33m\u001b[0m\u001b[0m\n\u001b[0m\u001b[0;32m    781\u001b[0m \u001b[1;33m\u001b[0m\u001b[0m\n\u001b[0;32m    782\u001b[0m       \u001b[0mnew_tracing_count\u001b[0m \u001b[1;33m=\u001b[0m \u001b[0mself\u001b[0m\u001b[1;33m.\u001b[0m\u001b[0m_get_tracing_count\u001b[0m\u001b[1;33m(\u001b[0m\u001b[1;33m)\u001b[0m\u001b[1;33m\u001b[0m\u001b[1;33m\u001b[0m\u001b[0m\n",
      "\u001b[1;32mD:\\anaconda\\lib\\site-packages\\tensorflow\\python\\eager\\def_function.py\u001b[0m in \u001b[0;36m_call\u001b[1;34m(self, *args, **kwds)\u001b[0m\n\u001b[0;32m    821\u001b[0m       \u001b[1;31m# This is the first call of __call__, so we have to initialize.\u001b[0m\u001b[1;33m\u001b[0m\u001b[1;33m\u001b[0m\u001b[1;33m\u001b[0m\u001b[0m\n\u001b[0;32m    822\u001b[0m       \u001b[0minitializers\u001b[0m \u001b[1;33m=\u001b[0m \u001b[1;33m[\u001b[0m\u001b[1;33m]\u001b[0m\u001b[1;33m\u001b[0m\u001b[1;33m\u001b[0m\u001b[0m\n\u001b[1;32m--> 823\u001b[1;33m       \u001b[0mself\u001b[0m\u001b[1;33m.\u001b[0m\u001b[0m_initialize\u001b[0m\u001b[1;33m(\u001b[0m\u001b[0margs\u001b[0m\u001b[1;33m,\u001b[0m \u001b[0mkwds\u001b[0m\u001b[1;33m,\u001b[0m \u001b[0madd_initializers_to\u001b[0m\u001b[1;33m=\u001b[0m\u001b[0minitializers\u001b[0m\u001b[1;33m)\u001b[0m\u001b[1;33m\u001b[0m\u001b[1;33m\u001b[0m\u001b[0m\n\u001b[0m\u001b[0;32m    824\u001b[0m     \u001b[1;32mfinally\u001b[0m\u001b[1;33m:\u001b[0m\u001b[1;33m\u001b[0m\u001b[1;33m\u001b[0m\u001b[0m\n\u001b[0;32m    825\u001b[0m       \u001b[1;31m# At this point we know that the initialization is complete (or less\u001b[0m\u001b[1;33m\u001b[0m\u001b[1;33m\u001b[0m\u001b[1;33m\u001b[0m\u001b[0m\n",
      "\u001b[1;32mD:\\anaconda\\lib\\site-packages\\tensorflow\\python\\eager\\def_function.py\u001b[0m in \u001b[0;36m_initialize\u001b[1;34m(self, args, kwds, add_initializers_to)\u001b[0m\n\u001b[0;32m    694\u001b[0m     \u001b[0mself\u001b[0m\u001b[1;33m.\u001b[0m\u001b[0m_graph_deleter\u001b[0m \u001b[1;33m=\u001b[0m \u001b[0mFunctionDeleter\u001b[0m\u001b[1;33m(\u001b[0m\u001b[0mself\u001b[0m\u001b[1;33m.\u001b[0m\u001b[0m_lifted_initializer_graph\u001b[0m\u001b[1;33m)\u001b[0m\u001b[1;33m\u001b[0m\u001b[1;33m\u001b[0m\u001b[0m\n\u001b[0;32m    695\u001b[0m     self._concrete_stateful_fn = (\n\u001b[1;32m--> 696\u001b[1;33m         self._stateful_fn._get_concrete_function_internal_garbage_collected(  # pylint: disable=protected-access\n\u001b[0m\u001b[0;32m    697\u001b[0m             *args, **kwds))\n\u001b[0;32m    698\u001b[0m \u001b[1;33m\u001b[0m\u001b[0m\n",
      "\u001b[1;32mD:\\anaconda\\lib\\site-packages\\tensorflow\\python\\eager\\function.py\u001b[0m in \u001b[0;36m_get_concrete_function_internal_garbage_collected\u001b[1;34m(self, *args, **kwargs)\u001b[0m\n\u001b[0;32m   2853\u001b[0m       \u001b[0margs\u001b[0m\u001b[1;33m,\u001b[0m \u001b[0mkwargs\u001b[0m \u001b[1;33m=\u001b[0m \u001b[1;32mNone\u001b[0m\u001b[1;33m,\u001b[0m \u001b[1;32mNone\u001b[0m\u001b[1;33m\u001b[0m\u001b[1;33m\u001b[0m\u001b[0m\n\u001b[0;32m   2854\u001b[0m     \u001b[1;32mwith\u001b[0m \u001b[0mself\u001b[0m\u001b[1;33m.\u001b[0m\u001b[0m_lock\u001b[0m\u001b[1;33m:\u001b[0m\u001b[1;33m\u001b[0m\u001b[1;33m\u001b[0m\u001b[0m\n\u001b[1;32m-> 2855\u001b[1;33m       \u001b[0mgraph_function\u001b[0m\u001b[1;33m,\u001b[0m \u001b[0m_\u001b[0m\u001b[1;33m,\u001b[0m \u001b[0m_\u001b[0m \u001b[1;33m=\u001b[0m \u001b[0mself\u001b[0m\u001b[1;33m.\u001b[0m\u001b[0m_maybe_define_function\u001b[0m\u001b[1;33m(\u001b[0m\u001b[0margs\u001b[0m\u001b[1;33m,\u001b[0m \u001b[0mkwargs\u001b[0m\u001b[1;33m)\u001b[0m\u001b[1;33m\u001b[0m\u001b[1;33m\u001b[0m\u001b[0m\n\u001b[0m\u001b[0;32m   2856\u001b[0m     \u001b[1;32mreturn\u001b[0m \u001b[0mgraph_function\u001b[0m\u001b[1;33m\u001b[0m\u001b[1;33m\u001b[0m\u001b[0m\n\u001b[0;32m   2857\u001b[0m \u001b[1;33m\u001b[0m\u001b[0m\n",
      "\u001b[1;32mD:\\anaconda\\lib\\site-packages\\tensorflow\\python\\eager\\function.py\u001b[0m in \u001b[0;36m_maybe_define_function\u001b[1;34m(self, args, kwargs)\u001b[0m\n\u001b[0;32m   3211\u001b[0m \u001b[1;33m\u001b[0m\u001b[0m\n\u001b[0;32m   3212\u001b[0m       \u001b[0mself\u001b[0m\u001b[1;33m.\u001b[0m\u001b[0m_function_cache\u001b[0m\u001b[1;33m.\u001b[0m\u001b[0mmissed\u001b[0m\u001b[1;33m.\u001b[0m\u001b[0madd\u001b[0m\u001b[1;33m(\u001b[0m\u001b[0mcall_context_key\u001b[0m\u001b[1;33m)\u001b[0m\u001b[1;33m\u001b[0m\u001b[1;33m\u001b[0m\u001b[0m\n\u001b[1;32m-> 3213\u001b[1;33m       \u001b[0mgraph_function\u001b[0m \u001b[1;33m=\u001b[0m \u001b[0mself\u001b[0m\u001b[1;33m.\u001b[0m\u001b[0m_create_graph_function\u001b[0m\u001b[1;33m(\u001b[0m\u001b[0margs\u001b[0m\u001b[1;33m,\u001b[0m \u001b[0mkwargs\u001b[0m\u001b[1;33m)\u001b[0m\u001b[1;33m\u001b[0m\u001b[1;33m\u001b[0m\u001b[0m\n\u001b[0m\u001b[0;32m   3214\u001b[0m       \u001b[0mself\u001b[0m\u001b[1;33m.\u001b[0m\u001b[0m_function_cache\u001b[0m\u001b[1;33m.\u001b[0m\u001b[0mprimary\u001b[0m\u001b[1;33m[\u001b[0m\u001b[0mcache_key\u001b[0m\u001b[1;33m]\u001b[0m \u001b[1;33m=\u001b[0m \u001b[0mgraph_function\u001b[0m\u001b[1;33m\u001b[0m\u001b[1;33m\u001b[0m\u001b[0m\n\u001b[0;32m   3215\u001b[0m       \u001b[1;32mreturn\u001b[0m \u001b[0mgraph_function\u001b[0m\u001b[1;33m,\u001b[0m \u001b[0margs\u001b[0m\u001b[1;33m,\u001b[0m \u001b[0mkwargs\u001b[0m\u001b[1;33m\u001b[0m\u001b[1;33m\u001b[0m\u001b[0m\n",
      "\u001b[1;32mD:\\anaconda\\lib\\site-packages\\tensorflow\\python\\eager\\function.py\u001b[0m in \u001b[0;36m_create_graph_function\u001b[1;34m(self, args, kwargs, override_flat_arg_shapes)\u001b[0m\n\u001b[0;32m   3063\u001b[0m     \u001b[0marg_names\u001b[0m \u001b[1;33m=\u001b[0m \u001b[0mbase_arg_names\u001b[0m \u001b[1;33m+\u001b[0m \u001b[0mmissing_arg_names\u001b[0m\u001b[1;33m\u001b[0m\u001b[1;33m\u001b[0m\u001b[0m\n\u001b[0;32m   3064\u001b[0m     graph_function = ConcreteFunction(\n\u001b[1;32m-> 3065\u001b[1;33m         func_graph_module.func_graph_from_py_func(\n\u001b[0m\u001b[0;32m   3066\u001b[0m             \u001b[0mself\u001b[0m\u001b[1;33m.\u001b[0m\u001b[0m_name\u001b[0m\u001b[1;33m,\u001b[0m\u001b[1;33m\u001b[0m\u001b[1;33m\u001b[0m\u001b[0m\n\u001b[0;32m   3067\u001b[0m             \u001b[0mself\u001b[0m\u001b[1;33m.\u001b[0m\u001b[0m_python_function\u001b[0m\u001b[1;33m,\u001b[0m\u001b[1;33m\u001b[0m\u001b[1;33m\u001b[0m\u001b[0m\n",
      "\u001b[1;32mD:\\anaconda\\lib\\site-packages\\tensorflow\\python\\framework\\func_graph.py\u001b[0m in \u001b[0;36mfunc_graph_from_py_func\u001b[1;34m(name, python_func, args, kwargs, signature, func_graph, autograph, autograph_options, add_control_dependencies, arg_names, op_return_value, collections, capture_by_value, override_flat_arg_shapes)\u001b[0m\n\u001b[0;32m    984\u001b[0m         \u001b[0m_\u001b[0m\u001b[1;33m,\u001b[0m \u001b[0moriginal_func\u001b[0m \u001b[1;33m=\u001b[0m \u001b[0mtf_decorator\u001b[0m\u001b[1;33m.\u001b[0m\u001b[0munwrap\u001b[0m\u001b[1;33m(\u001b[0m\u001b[0mpython_func\u001b[0m\u001b[1;33m)\u001b[0m\u001b[1;33m\u001b[0m\u001b[1;33m\u001b[0m\u001b[0m\n\u001b[0;32m    985\u001b[0m \u001b[1;33m\u001b[0m\u001b[0m\n\u001b[1;32m--> 986\u001b[1;33m       \u001b[0mfunc_outputs\u001b[0m \u001b[1;33m=\u001b[0m \u001b[0mpython_func\u001b[0m\u001b[1;33m(\u001b[0m\u001b[1;33m*\u001b[0m\u001b[0mfunc_args\u001b[0m\u001b[1;33m,\u001b[0m \u001b[1;33m**\u001b[0m\u001b[0mfunc_kwargs\u001b[0m\u001b[1;33m)\u001b[0m\u001b[1;33m\u001b[0m\u001b[1;33m\u001b[0m\u001b[0m\n\u001b[0m\u001b[0;32m    987\u001b[0m \u001b[1;33m\u001b[0m\u001b[0m\n\u001b[0;32m    988\u001b[0m       \u001b[1;31m# invariant: `func_outputs` contains only Tensors, CompositeTensors,\u001b[0m\u001b[1;33m\u001b[0m\u001b[1;33m\u001b[0m\u001b[1;33m\u001b[0m\u001b[0m\n",
      "\u001b[1;32mD:\\anaconda\\lib\\site-packages\\tensorflow\\python\\eager\\def_function.py\u001b[0m in \u001b[0;36mwrapped_fn\u001b[1;34m(*args, **kwds)\u001b[0m\n\u001b[0;32m    598\u001b[0m         \u001b[1;31m# __wrapped__ allows AutoGraph to swap in a converted function. We give\u001b[0m\u001b[1;33m\u001b[0m\u001b[1;33m\u001b[0m\u001b[1;33m\u001b[0m\u001b[0m\n\u001b[0;32m    599\u001b[0m         \u001b[1;31m# the function a weak reference to itself to avoid a reference cycle.\u001b[0m\u001b[1;33m\u001b[0m\u001b[1;33m\u001b[0m\u001b[1;33m\u001b[0m\u001b[0m\n\u001b[1;32m--> 600\u001b[1;33m         \u001b[1;32mreturn\u001b[0m \u001b[0mweak_wrapped_fn\u001b[0m\u001b[1;33m(\u001b[0m\u001b[1;33m)\u001b[0m\u001b[1;33m.\u001b[0m\u001b[0m__wrapped__\u001b[0m\u001b[1;33m(\u001b[0m\u001b[1;33m*\u001b[0m\u001b[0margs\u001b[0m\u001b[1;33m,\u001b[0m \u001b[1;33m**\u001b[0m\u001b[0mkwds\u001b[0m\u001b[1;33m)\u001b[0m\u001b[1;33m\u001b[0m\u001b[1;33m\u001b[0m\u001b[0m\n\u001b[0m\u001b[0;32m    601\u001b[0m     \u001b[0mweak_wrapped_fn\u001b[0m \u001b[1;33m=\u001b[0m \u001b[0mweakref\u001b[0m\u001b[1;33m.\u001b[0m\u001b[0mref\u001b[0m\u001b[1;33m(\u001b[0m\u001b[0mwrapped_fn\u001b[0m\u001b[1;33m)\u001b[0m\u001b[1;33m\u001b[0m\u001b[1;33m\u001b[0m\u001b[0m\n\u001b[0;32m    602\u001b[0m \u001b[1;33m\u001b[0m\u001b[0m\n",
      "\u001b[1;32mD:\\anaconda\\lib\\site-packages\\tensorflow\\python\\framework\\func_graph.py\u001b[0m in \u001b[0;36mwrapper\u001b[1;34m(*args, **kwargs)\u001b[0m\n\u001b[0;32m    971\u001b[0m           \u001b[1;32mexcept\u001b[0m \u001b[0mException\u001b[0m \u001b[1;32mas\u001b[0m \u001b[0me\u001b[0m\u001b[1;33m:\u001b[0m  \u001b[1;31m# pylint:disable=broad-except\u001b[0m\u001b[1;33m\u001b[0m\u001b[1;33m\u001b[0m\u001b[0m\n\u001b[0;32m    972\u001b[0m             \u001b[1;32mif\u001b[0m \u001b[0mhasattr\u001b[0m\u001b[1;33m(\u001b[0m\u001b[0me\u001b[0m\u001b[1;33m,\u001b[0m \u001b[1;34m\"ag_error_metadata\"\u001b[0m\u001b[1;33m)\u001b[0m\u001b[1;33m:\u001b[0m\u001b[1;33m\u001b[0m\u001b[1;33m\u001b[0m\u001b[0m\n\u001b[1;32m--> 973\u001b[1;33m               \u001b[1;32mraise\u001b[0m \u001b[0me\u001b[0m\u001b[1;33m.\u001b[0m\u001b[0mag_error_metadata\u001b[0m\u001b[1;33m.\u001b[0m\u001b[0mto_exception\u001b[0m\u001b[1;33m(\u001b[0m\u001b[0me\u001b[0m\u001b[1;33m)\u001b[0m\u001b[1;33m\u001b[0m\u001b[1;33m\u001b[0m\u001b[0m\n\u001b[0m\u001b[0;32m    974\u001b[0m             \u001b[1;32melse\u001b[0m\u001b[1;33m:\u001b[0m\u001b[1;33m\u001b[0m\u001b[1;33m\u001b[0m\u001b[0m\n\u001b[0;32m    975\u001b[0m               \u001b[1;32mraise\u001b[0m\u001b[1;33m\u001b[0m\u001b[1;33m\u001b[0m\u001b[0m\n",
      "\u001b[1;31mValueError\u001b[0m: in user code:\n\n    D:\\anaconda\\lib\\site-packages\\tensorflow\\python\\keras\\engine\\training.py:806 train_function  *\n        return step_function(self, iterator)\n    D:\\anaconda\\lib\\site-packages\\tensorflow\\python\\keras\\engine\\training.py:796 step_function  **\n        outputs = model.distribute_strategy.run(run_step, args=(data,))\n    D:\\anaconda\\lib\\site-packages\\tensorflow\\python\\distribute\\distribute_lib.py:1211 run\n        return self._extended.call_for_each_replica(fn, args=args, kwargs=kwargs)\n    D:\\anaconda\\lib\\site-packages\\tensorflow\\python\\distribute\\distribute_lib.py:2585 call_for_each_replica\n        return self._call_for_each_replica(fn, args, kwargs)\n    D:\\anaconda\\lib\\site-packages\\tensorflow\\python\\distribute\\distribute_lib.py:2945 _call_for_each_replica\n        return fn(*args, **kwargs)\n    D:\\anaconda\\lib\\site-packages\\tensorflow\\python\\keras\\engine\\training.py:789 run_step  **\n        outputs = model.train_step(data)\n    D:\\anaconda\\lib\\site-packages\\tensorflow\\python\\keras\\engine\\training.py:748 train_step\n        loss = self.compiled_loss(\n    D:\\anaconda\\lib\\site-packages\\tensorflow\\python\\keras\\engine\\compile_utils.py:204 __call__\n        loss_value = loss_obj(y_t, y_p, sample_weight=sw)\n    D:\\anaconda\\lib\\site-packages\\tensorflow\\python\\keras\\losses.py:149 __call__\n        losses = ag_call(y_true, y_pred)\n    D:\\anaconda\\lib\\site-packages\\tensorflow\\python\\keras\\losses.py:253 call  **\n        return ag_fn(y_true, y_pred, **self._fn_kwargs)\n    D:\\anaconda\\lib\\site-packages\\tensorflow\\python\\util\\dispatch.py:201 wrapper\n        return target(*args, **kwargs)\n    D:\\anaconda\\lib\\site-packages\\tensorflow\\python\\keras\\losses.py:1535 categorical_crossentropy\n        return K.categorical_crossentropy(y_true, y_pred, from_logits=from_logits)\n    D:\\anaconda\\lib\\site-packages\\tensorflow\\python\\util\\dispatch.py:201 wrapper\n        return target(*args, **kwargs)\n    D:\\anaconda\\lib\\site-packages\\tensorflow\\python\\keras\\backend.py:4687 categorical_crossentropy\n        target.shape.assert_is_compatible_with(output.shape)\n    D:\\anaconda\\lib\\site-packages\\tensorflow\\python\\framework\\tensor_shape.py:1134 assert_is_compatible_with\n        raise ValueError(\"Shapes %s and %s are incompatible\" % (self, other))\n\n    ValueError: Shapes (None, 14) and (None, 14, 25669) are incompatible\n"
     ]
    }
   ],
   "source": [
    "opt = keras.optimizers.Adam(learning_rate=0.01)\n",
    "loss_fn = keras.losses.CategoricalCrossentropy(from_logits=False)\n",
    "rnn.compile(optimizer=opt, \n",
    "            loss=loss_fn,\n",
    "            metrics=['accuracy'])\n",
    "\n",
    "history = rnn.fit(x=x_train, y=y_train, batch_size=100, epochs=40, validation_split=0.4)"
   ]
  },
  {
   "cell_type": "code",
   "execution_count": null,
   "metadata": {},
   "outputs": [],
   "source": []
  }
 ],
 "metadata": {
  "kernelspec": {
   "display_name": "Python 3",
   "language": "python",
   "name": "python3"
  },
  "language_info": {
   "codemirror_mode": {
    "name": "ipython",
    "version": 3
   },
   "file_extension": ".py",
   "mimetype": "text/x-python",
   "name": "python",
   "nbconvert_exporter": "python",
   "pygments_lexer": "ipython3",
   "version": "3.8.5"
  }
 },
 "nbformat": 4,
 "nbformat_minor": 4
}
